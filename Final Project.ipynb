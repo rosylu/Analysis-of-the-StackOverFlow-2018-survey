{
 "cells": [
  {
   "cell_type": "code",
   "execution_count": 1,
   "metadata": {},
   "outputs": [],
   "source": [
    "\n",
    "import numpy as np # linear algebra\n",
    "import pandas as pd # data processing, CSV file I/O (e.g. pd.read_csv)\n",
    "import csv, ast, psycopg2\n",
    "import os\n",
    "import sqlite3\n",
    "import gzip\n",
    "import seaborn as sns\n",
    "import matplotlib.pyplot as plt\n",
    "import json \n",
    "from chart_studio.plotly import iplot\n",
    "import plotly.graph_objects as go\n",
    "from plotly.offline import init_notebook_mode, iplot\n",
    "\n",
    "from sqlite3 import Error\n",
    "from collections import Counter\n",
    "\n",
    "def create_connection(db_file, delete_db=False):\n",
    "    if delete_db and os.path.exists(db_file):\n",
    "        os.remove(db_file)\n",
    "    conn = None\n",
    "    try:\n",
    "        conn = sqlite3.connect(db_file)\n",
    "        conn.execute(\"PRAGMA foreign_keys = 1\")\n",
    "    except Error as e:\n",
    "        print(e)\n",
    "\n",
    "    return conn\n",
    "\n",
    "\n",
    "def create_table(conn, create_table_sql):\n",
    "    try:\n",
    "        c = conn.cursor()\n",
    "        c.execute(create_table_sql)\n",
    "    except Error as e:\n",
    "        print(e)\n",
    "        \n",
    "def execute_sql(query_sql):\n",
    "\n",
    "    c = conn.cursor()\n",
    "    c.execute(query_sql)\n",
    "    conn.commit()\n",
    "    rows = pd.DataFrame(c.fetchall())\n",
    "    return rows\n"
   ]
  },
  {
   "cell_type": "code",
   "execution_count": 2,
   "metadata": {
    "scrolled": true
   },
   "outputs": [
    {
     "name": "stderr",
     "output_type": "stream",
     "text": [
      "/home/mavericku/anaconda3/lib/python3.7/site-packages/IPython/core/interactiveshell.py:3058: DtypeWarning:\n",
      "\n",
      "Columns (8,12,13,14,15,16,50,51,52,53,55,56,57,58,59,60,61,62,63,64,65,66,67,68,69,70,71,72,73,74,75,76,77,78,79,80,81,82,83,84,85,93,94,95,96,97,98,99,100,101,102,103,104,105,106,107,108,109,110,111,112,113,114,115,116,117,118,119,120,121,122,123,124,125,126,127,128) have mixed types. Specify dtype option on import or set low_memory=False.\n",
      "\n"
     ]
    },
    {
     "data": {
      "text/html": [
       "<div>\n",
       "<style scoped>\n",
       "    .dataframe tbody tr th:only-of-type {\n",
       "        vertical-align: middle;\n",
       "    }\n",
       "\n",
       "    .dataframe tbody tr th {\n",
       "        vertical-align: top;\n",
       "    }\n",
       "\n",
       "    .dataframe thead th {\n",
       "        text-align: right;\n",
       "    }\n",
       "</style>\n",
       "<table border=\"1\" class=\"dataframe\">\n",
       "  <thead>\n",
       "    <tr style=\"text-align: right;\">\n",
       "      <th></th>\n",
       "      <th>Respondent</th>\n",
       "      <th>Hobby</th>\n",
       "      <th>OpenSource</th>\n",
       "      <th>Country</th>\n",
       "      <th>Student</th>\n",
       "      <th>Employment</th>\n",
       "      <th>FormalEducation</th>\n",
       "      <th>UndergradMajor</th>\n",
       "      <th>CompanySize</th>\n",
       "      <th>DevType</th>\n",
       "      <th>...</th>\n",
       "      <th>Exercise</th>\n",
       "      <th>Gender</th>\n",
       "      <th>SexualOrientation</th>\n",
       "      <th>EducationParents</th>\n",
       "      <th>RaceEthnicity</th>\n",
       "      <th>Age</th>\n",
       "      <th>Dependents</th>\n",
       "      <th>MilitaryUS</th>\n",
       "      <th>SurveyTooLong</th>\n",
       "      <th>SurveyEasy</th>\n",
       "    </tr>\n",
       "  </thead>\n",
       "  <tbody>\n",
       "    <tr>\n",
       "      <th>0</th>\n",
       "      <td>1</td>\n",
       "      <td>Yes</td>\n",
       "      <td>No</td>\n",
       "      <td>Kenya</td>\n",
       "      <td>No</td>\n",
       "      <td>Employed part-time</td>\n",
       "      <td>Bachelor’s degree (BA, BS, B.Eng., etc.)</td>\n",
       "      <td>Mathematics or statistics</td>\n",
       "      <td>20 to 99 employees</td>\n",
       "      <td>Full-stack developer</td>\n",
       "      <td>...</td>\n",
       "      <td>3 - 4 times per week</td>\n",
       "      <td>Male</td>\n",
       "      <td>Straight or heterosexual</td>\n",
       "      <td>Bachelor’s degree (BA, BS, B.Eng., etc.)</td>\n",
       "      <td>Black or of African descent</td>\n",
       "      <td>25 - 34 years old</td>\n",
       "      <td>Yes</td>\n",
       "      <td>NaN</td>\n",
       "      <td>The survey was an appropriate length</td>\n",
       "      <td>Very easy</td>\n",
       "    </tr>\n",
       "    <tr>\n",
       "      <th>1</th>\n",
       "      <td>3</td>\n",
       "      <td>Yes</td>\n",
       "      <td>Yes</td>\n",
       "      <td>United Kingdom</td>\n",
       "      <td>No</td>\n",
       "      <td>Employed full-time</td>\n",
       "      <td>Bachelor’s degree (BA, BS, B.Eng., etc.)</td>\n",
       "      <td>A natural science (ex. biology, chemistry, phy...</td>\n",
       "      <td>10,000 or more employees</td>\n",
       "      <td>Database administrator;DevOps specialist;Full-...</td>\n",
       "      <td>...</td>\n",
       "      <td>Daily or almost every day</td>\n",
       "      <td>Male</td>\n",
       "      <td>Straight or heterosexual</td>\n",
       "      <td>Bachelor’s degree (BA, BS, B.Eng., etc.)</td>\n",
       "      <td>White or of European descent</td>\n",
       "      <td>35 - 44 years old</td>\n",
       "      <td>Yes</td>\n",
       "      <td>NaN</td>\n",
       "      <td>The survey was an appropriate length</td>\n",
       "      <td>Somewhat easy</td>\n",
       "    </tr>\n",
       "    <tr>\n",
       "      <th>2</th>\n",
       "      <td>4</td>\n",
       "      <td>Yes</td>\n",
       "      <td>Yes</td>\n",
       "      <td>United States</td>\n",
       "      <td>No</td>\n",
       "      <td>Employed full-time</td>\n",
       "      <td>Associate degree</td>\n",
       "      <td>Computer science, computer engineering, or sof...</td>\n",
       "      <td>20 to 99 employees</td>\n",
       "      <td>Engineering manager;Full-stack developer</td>\n",
       "      <td>...</td>\n",
       "      <td>NaN</td>\n",
       "      <td>NaN</td>\n",
       "      <td>NaN</td>\n",
       "      <td>NaN</td>\n",
       "      <td>NaN</td>\n",
       "      <td>NaN</td>\n",
       "      <td>NaN</td>\n",
       "      <td>NaN</td>\n",
       "      <td>NaN</td>\n",
       "      <td>NaN</td>\n",
       "    </tr>\n",
       "    <tr>\n",
       "      <th>3</th>\n",
       "      <td>5</td>\n",
       "      <td>No</td>\n",
       "      <td>No</td>\n",
       "      <td>United States</td>\n",
       "      <td>No</td>\n",
       "      <td>Employed full-time</td>\n",
       "      <td>Bachelor’s degree (BA, BS, B.Eng., etc.)</td>\n",
       "      <td>Computer science, computer engineering, or sof...</td>\n",
       "      <td>100 to 499 employees</td>\n",
       "      <td>Full-stack developer</td>\n",
       "      <td>...</td>\n",
       "      <td>I don't typically exercise</td>\n",
       "      <td>Male</td>\n",
       "      <td>Straight or heterosexual</td>\n",
       "      <td>Some college/university study without earning ...</td>\n",
       "      <td>White or of European descent</td>\n",
       "      <td>35 - 44 years old</td>\n",
       "      <td>No</td>\n",
       "      <td>No</td>\n",
       "      <td>The survey was an appropriate length</td>\n",
       "      <td>Somewhat easy</td>\n",
       "    </tr>\n",
       "    <tr>\n",
       "      <th>4</th>\n",
       "      <td>7</td>\n",
       "      <td>Yes</td>\n",
       "      <td>No</td>\n",
       "      <td>South Africa</td>\n",
       "      <td>Yes, part-time</td>\n",
       "      <td>Employed full-time</td>\n",
       "      <td>Some college/university study without earning ...</td>\n",
       "      <td>Computer science, computer engineering, or sof...</td>\n",
       "      <td>10,000 or more employees</td>\n",
       "      <td>Data or business analyst;Desktop or enterprise...</td>\n",
       "      <td>...</td>\n",
       "      <td>3 - 4 times per week</td>\n",
       "      <td>Male</td>\n",
       "      <td>Straight or heterosexual</td>\n",
       "      <td>Some college/university study without earning ...</td>\n",
       "      <td>White or of European descent</td>\n",
       "      <td>18 - 24 years old</td>\n",
       "      <td>Yes</td>\n",
       "      <td>NaN</td>\n",
       "      <td>The survey was an appropriate length</td>\n",
       "      <td>Somewhat easy</td>\n",
       "    </tr>\n",
       "  </tbody>\n",
       "</table>\n",
       "<p>5 rows × 129 columns</p>\n",
       "</div>"
      ],
      "text/plain": [
       "   Respondent Hobby OpenSource         Country         Student  \\\n",
       "0           1   Yes         No           Kenya              No   \n",
       "1           3   Yes        Yes  United Kingdom              No   \n",
       "2           4   Yes        Yes   United States              No   \n",
       "3           5    No         No   United States              No   \n",
       "4           7   Yes         No    South Africa  Yes, part-time   \n",
       "\n",
       "           Employment                                    FormalEducation  \\\n",
       "0  Employed part-time           Bachelor’s degree (BA, BS, B.Eng., etc.)   \n",
       "1  Employed full-time           Bachelor’s degree (BA, BS, B.Eng., etc.)   \n",
       "2  Employed full-time                                   Associate degree   \n",
       "3  Employed full-time           Bachelor’s degree (BA, BS, B.Eng., etc.)   \n",
       "4  Employed full-time  Some college/university study without earning ...   \n",
       "\n",
       "                                      UndergradMajor  \\\n",
       "0                          Mathematics or statistics   \n",
       "1  A natural science (ex. biology, chemistry, phy...   \n",
       "2  Computer science, computer engineering, or sof...   \n",
       "3  Computer science, computer engineering, or sof...   \n",
       "4  Computer science, computer engineering, or sof...   \n",
       "\n",
       "                CompanySize  \\\n",
       "0        20 to 99 employees   \n",
       "1  10,000 or more employees   \n",
       "2        20 to 99 employees   \n",
       "3      100 to 499 employees   \n",
       "4  10,000 or more employees   \n",
       "\n",
       "                                             DevType  ...  \\\n",
       "0                               Full-stack developer  ...   \n",
       "1  Database administrator;DevOps specialist;Full-...  ...   \n",
       "2           Engineering manager;Full-stack developer  ...   \n",
       "3                               Full-stack developer  ...   \n",
       "4  Data or business analyst;Desktop or enterprise...  ...   \n",
       "\n",
       "                     Exercise Gender         SexualOrientation  \\\n",
       "0        3 - 4 times per week   Male  Straight or heterosexual   \n",
       "1   Daily or almost every day   Male  Straight or heterosexual   \n",
       "2                         NaN    NaN                       NaN   \n",
       "3  I don't typically exercise   Male  Straight or heterosexual   \n",
       "4        3 - 4 times per week   Male  Straight or heterosexual   \n",
       "\n",
       "                                    EducationParents  \\\n",
       "0           Bachelor’s degree (BA, BS, B.Eng., etc.)   \n",
       "1           Bachelor’s degree (BA, BS, B.Eng., etc.)   \n",
       "2                                                NaN   \n",
       "3  Some college/university study without earning ...   \n",
       "4  Some college/university study without earning ...   \n",
       "\n",
       "                  RaceEthnicity                Age Dependents  MilitaryUS  \\\n",
       "0   Black or of African descent  25 - 34 years old        Yes         NaN   \n",
       "1  White or of European descent  35 - 44 years old        Yes         NaN   \n",
       "2                           NaN                NaN        NaN         NaN   \n",
       "3  White or of European descent  35 - 44 years old         No          No   \n",
       "4  White or of European descent  18 - 24 years old        Yes         NaN   \n",
       "\n",
       "                          SurveyTooLong     SurveyEasy  \n",
       "0  The survey was an appropriate length      Very easy  \n",
       "1  The survey was an appropriate length  Somewhat easy  \n",
       "2                                   NaN            NaN  \n",
       "3  The survey was an appropriate length  Somewhat easy  \n",
       "4  The survey was an appropriate length  Somewhat easy  \n",
       "\n",
       "[5 rows x 129 columns]"
      ]
     },
     "execution_count": 2,
     "metadata": {},
     "output_type": "execute_result"
    }
   ],
   "source": [
    "df = pd.read_csv('survey_results_public.csv')\n",
    "df.head()"
   ]
  },
  {
   "cell_type": "markdown",
   "metadata": {},
   "source": [
    "## AUTOMATE TABLE CREATION"
   ]
  },
  {
   "cell_type": "markdown",
   "metadata": {},
   "source": [
    "We first input the files in to the Database"
   ]
  },
  {
   "cell_type": "code",
   "execution_count": 3,
   "metadata": {},
   "outputs": [],
   "source": [
    "## Determining data type\n",
    "def determine_data_type_of_list(values):  \n",
    "    if type(values) == list:\n",
    "        do_float = 0\n",
    "        do_string = 0\n",
    "        do_int = 0\n",
    "        for x in values: \n",
    "            #print(x)\n",
    "            try: \n",
    "                test_x_float = float(x) \n",
    "                try:\n",
    "                    test_x_int = int(x) \n",
    "                except:\n",
    "                    test_x_int = float(x)\n",
    "                    do_float += 1 \n",
    "                if int(test_x_float) == test_x_int:  \n",
    "                    do_int +=1\n",
    "                else:\n",
    "                    do_float +=1 \n",
    "            except:              \n",
    "                do_string +=1\n",
    "                 \n",
    "        if do_string >0: \n",
    "            return str\n",
    "        elif do_float > 0 : \n",
    "            return float\n",
    "        else : \n",
    "            return int \n",
    "    else:\n",
    "        return determine_data_type(values)"
   ]
  },
  {
   "cell_type": "code",
   "execution_count": 4,
   "metadata": {},
   "outputs": [],
   "source": [
    "all_columns = [] \n",
    "main_table = \"stack_overflow_survey\""
   ]
  },
  {
   "cell_type": "code",
   "execution_count": 5,
   "metadata": {},
   "outputs": [],
   "source": [
    "statement = 'create table if not exists ' + main_table  + ' (' \n",
    "for column in df.columns.values:\n",
    "    all_columns.append(column)\n",
    "    column_data_type = determine_data_type_of_list(df[column].tolist())\n",
    "#     print(column_data_type)\n",
    "    if column_data_type == str: \n",
    "        statement = (statement + '\\n{} text,').format(column.lower() )\n",
    "    elif column == \"Respondent\":\n",
    "        \n",
    "        statement = (statement + '\\n{} int not null primary key,').format(column.lower() )\n",
    "    else:\n",
    "        statement = (statement + '\\n' + '{} {}' + ',').format(column.lower(), \"int\") \n",
    "statement = statement[:-1] + ');' "
   ]
  },
  {
   "cell_type": "code",
   "execution_count": 6,
   "metadata": {},
   "outputs": [],
   "source": [
    "#CREATE TABLES\n",
    "create_table_sql = statement\n",
    "sql_table_name = \"Stack_Over_Flow_Survey.db\"\n",
    "conn = create_connection(sql_table_name) \n",
    "create_table(conn , create_table_sql)"
   ]
  },
  {
   "cell_type": "code",
   "execution_count": 7,
   "metadata": {},
   "outputs": [],
   "source": [
    "insert_sql = \"\"\"INSERT INTO stack_overflow_survey (respondent, hobby, opensource, country, student, employment, formaleducation, undergradmajor, companysize, devtype, yearscoding, yearscodingprof, jobsatisfaction, careersatisfaction, hopefiveyears, jobsearchstatus, lastnewjob, assessjob1, assessjob2, assessjob3, assessjob4, assessjob5, assessjob6, assessjob7, assessjob8, assessjob9, assessjob10, assessbenefits1, assessbenefits2, assessbenefits3, assessbenefits4, assessbenefits5, assessbenefits6, assessbenefits7, assessbenefits8, assessbenefits9, assessbenefits10, assessbenefits11, jobcontactpriorities1, jobcontactpriorities2, jobcontactpriorities3, jobcontactpriorities4, jobcontactpriorities5, jobemailpriorities1, jobemailpriorities2, jobemailpriorities3, jobemailpriorities4, jobemailpriorities5, jobemailpriorities6, jobemailpriorities7, updatecv, currency, salary, salarytype, convertedsalary, currencysymbol, communicationtools, timefullyproductive, educationtypes, selftaughttypes, timeafterbootcamp, hackathonreasons, agreedisagree1, agreedisagree2, agreedisagree3, languageworkedwith, languagedesirenextyear, databaseworkedwith, databasedesirenextyear, platformworkedwith, platformdesirenextyear, frameworkworkedwith, frameworkdesirenextyear, ide, operatingsystem, numbermonitors, methodology, versioncontrol, checkincode, adblocker, adblockerdisable, adblockerreasons, adsagreedisagree1, adsagreedisagree2, adsagreedisagree3, adsactions, adspriorities1, adspriorities2, adspriorities3, adspriorities4, adspriorities5, adspriorities6, adspriorities7, aidangerous, aiinteresting, airesponsible, aifuture, ethicschoice, ethicsreport, ethicsresponsible, ethicalimplications, stackoverflowrecommend, stackoverflowvisit, stackoverflowhasaccount, stackoverflowparticipate, stackoverflowjobs, stackoverflowdevstory, stackoverflowjobsrecommend, stackoverflowconsidermember, hypotheticaltools1, hypotheticaltools2, hypotheticaltools3, hypotheticaltools4, hypotheticaltools5, waketime, hourscomputer, hoursoutside, skipmeals, ergonomicdevices, exercise, gender, sexualorientation, educationparents, raceethnicity, age, dependents, militaryus, surveytoolong, surveyeasy) \n",
    "VALUES (?, ?, ?, ?, ?, ?, ?, ?, ?, ?, ?, ?, ?, ?, ?, ?, ?, ?, ?, ?, ?, ?, ?, ?, ?, ?, ?, ?, ?, ?, ?, ?, ?, ?, ?, ?, ?, ?, ?, ?, ?, ?, ?, ?, ?, ?, ?, ?, ?, ?, ?, ?, ?, ?, ?, ?, ?, ?, ?, ?, ?, ?, ?, ?, ?, ?, ?, ?, ?, ?, ?, ?, ?, ?, ?, ?, ?, ?, ?, ?, ?, ?, ?, ?, ?, ?, ?, ?, ?, ?, ?, ?, ?, ?, ?, ?, ?, ?, ?, ?, ?, ?, ?, ?, ?, ?, ?, ?, ?, ?, ?, ?, ?, ?, ?, ?, ?, ?, ?, ?, ?, ?, ?, ?, ?, ?, ?, ?, ?)\n",
    "\"\"\"\n",
    "# # print(statement)\n",
    "# print(len(all_columns))\n",
    "\n",
    "# for i in range(0 , 129):\n",
    "#     print(\"?, \", end = \"\")"
   ]
  },
  {
   "cell_type": "code",
   "execution_count": 8,
   "metadata": {},
   "outputs": [],
   "source": [
    "# print(insert_sql)"
   ]
  },
  {
   "cell_type": "code",
   "execution_count": 9,
   "metadata": {},
   "outputs": [],
   "source": [
    "# INSERT FUNCTION\n",
    "def insert_rows_to_db(conn, data_tuple): \n",
    "    try:\n",
    "        c = conn.cursor()\n",
    "        c.executemany(insert_sql, data_tuple)\n",
    "        conn.commit()\n",
    "    except Error as e:  \n",
    "        print(e)"
   ]
  },
  {
   "cell_type": "code",
   "execution_count": 10,
   "metadata": {},
   "outputs": [],
   "source": [
    "# EXTRACT DATA\n",
    "index_print_times = 0\n",
    "test_times = 30\n",
    "all_respondet_answer_tuple = []\n",
    "for index, value in  df.iterrows(): \n",
    "    respondent_answer_tuple = [] \n",
    "    for columns in all_columns: \n",
    "        respondent_answer_tuple.append(value[columns])\n",
    "        index_print_times += 1  \n",
    "#     insert_rows_to_db(conn, tuple(respondent_answer_tuple))\n",
    "    all_respondet_answer_tuple.append(tuple(respondent_answer_tuple)) \n",
    "    \n",
    "############### IF ERROR, DELETE .DB FILE THEN RERUN #########################"
   ]
  },
  {
   "cell_type": "code",
   "execution_count": 11,
   "metadata": {},
   "outputs": [
    {
     "name": "stdout",
     "output_type": "stream",
     "text": [
      "UNIQUE constraint failed: stack_overflow_survey.respondent\n"
     ]
    }
   ],
   "source": [
    "# INSERT TO DB\n",
    "insert_rows_to_db(conn, all_respondet_answer_tuple)"
   ]
  },
  {
   "cell_type": "markdown",
   "metadata": {},
   "source": [
    "# First, we analyze our users"
   ]
  },
  {
   "cell_type": "markdown",
   "metadata": {},
   "source": [
    "We first take a look at the respondents that have taken the survey\n",
    "We wish to know\n",
    "1. The amount of respondents from each of the countries\n",
    "2. The male/female ratio\n",
    "3. The age group of respondents\n",
    "4. How many code as a hobby\n",
    "5. The typical degree type and major\n",
    "6. Type of developer"
   ]
  },
  {
   "cell_type": "code",
   "execution_count": 12,
   "metadata": {},
   "outputs": [],
   "source": [
    "select_sql = \"SELECT ? \"\n",
    "select_from_table = \"FROM \" + main_table\n",
    "select_columns = [\"Respondent\", \"Hobby\" , \"OpenSource\" , \"Country\" , \"Student\" , \"Employment\" , \n",
    "                  \"FormalEducation\" , \"UndergradMajor\" , \"CompanySize\" , \"DevType\" , \"YearsCoding\" ,\n",
    "                  \"YearsCodingProf\" , \"JobSatisfaction\" , \"CareerSatisfaction\" , \"HopeFiveYears\" , \"JobSearchStatus\" , \n",
    "                  \"LastNewJob\" ,\"Age\" , \"MilitaryUS\" , \"RaceEthnicity\" , \"EducationParents\" , \"Gender\" ,\"WakeTime\" ,\n",
    "                  \"HoursComputer\" , \"HoursOutside\" , \"SkipMeals\" , \"ErgonomicDevices\"]"
   ]
  },
  {
   "cell_type": "code",
   "execution_count": 13,
   "metadata": {},
   "outputs": [],
   "source": [
    "select_column_whole = \" \"\n",
    "for column in select_columns:\n",
    "    select_column_whole = select_column_whole + column + \" ,\"\n",
    "select_column_whole = select_column_whole[:-1] \n",
    "select_sql = select_sql.replace(\"?\" , select_column_whole, 1) + select_from_table "
   ]
  },
  {
   "cell_type": "code",
   "execution_count": 14,
   "metadata": {},
   "outputs": [],
   "source": [
    "c = conn.cursor()\n",
    "c.execute(select_sql)\n",
    "conn.commit()"
   ]
  },
  {
   "cell_type": "code",
   "execution_count": 15,
   "metadata": {},
   "outputs": [],
   "source": [
    "select_respondent_reponse = c.fetchall()\n",
    "selected_response = pd.DataFrame(select_respondent_reponse , columns = select_columns)\n",
    "selected_response = selected_response.set_index('Respondent')"
   ]
  },
  {
   "cell_type": "code",
   "execution_count": 16,
   "metadata": {},
   "outputs": [
    {
     "data": {
      "text/html": [
       "<div>\n",
       "<style scoped>\n",
       "    .dataframe tbody tr th:only-of-type {\n",
       "        vertical-align: middle;\n",
       "    }\n",
       "\n",
       "    .dataframe tbody tr th {\n",
       "        vertical-align: top;\n",
       "    }\n",
       "\n",
       "    .dataframe thead th {\n",
       "        text-align: right;\n",
       "    }\n",
       "</style>\n",
       "<table border=\"1\" class=\"dataframe\">\n",
       "  <thead>\n",
       "    <tr style=\"text-align: right;\">\n",
       "      <th></th>\n",
       "      <th>Hobby</th>\n",
       "      <th>OpenSource</th>\n",
       "      <th>Country</th>\n",
       "      <th>Student</th>\n",
       "      <th>Employment</th>\n",
       "      <th>FormalEducation</th>\n",
       "      <th>UndergradMajor</th>\n",
       "      <th>CompanySize</th>\n",
       "      <th>DevType</th>\n",
       "      <th>YearsCoding</th>\n",
       "      <th>...</th>\n",
       "      <th>Age</th>\n",
       "      <th>MilitaryUS</th>\n",
       "      <th>RaceEthnicity</th>\n",
       "      <th>EducationParents</th>\n",
       "      <th>Gender</th>\n",
       "      <th>WakeTime</th>\n",
       "      <th>HoursComputer</th>\n",
       "      <th>HoursOutside</th>\n",
       "      <th>SkipMeals</th>\n",
       "      <th>ErgonomicDevices</th>\n",
       "    </tr>\n",
       "    <tr>\n",
       "      <th>Respondent</th>\n",
       "      <th></th>\n",
       "      <th></th>\n",
       "      <th></th>\n",
       "      <th></th>\n",
       "      <th></th>\n",
       "      <th></th>\n",
       "      <th></th>\n",
       "      <th></th>\n",
       "      <th></th>\n",
       "      <th></th>\n",
       "      <th></th>\n",
       "      <th></th>\n",
       "      <th></th>\n",
       "      <th></th>\n",
       "      <th></th>\n",
       "      <th></th>\n",
       "      <th></th>\n",
       "      <th></th>\n",
       "      <th></th>\n",
       "      <th></th>\n",
       "      <th></th>\n",
       "    </tr>\n",
       "  </thead>\n",
       "  <tbody>\n",
       "    <tr>\n",
       "      <th>1</th>\n",
       "      <td>Yes</td>\n",
       "      <td>No</td>\n",
       "      <td>Kenya</td>\n",
       "      <td>No</td>\n",
       "      <td>Employed part-time</td>\n",
       "      <td>Bachelor’s degree (BA, BS, B.Eng., etc.)</td>\n",
       "      <td>Mathematics or statistics</td>\n",
       "      <td>20 to 99 employees</td>\n",
       "      <td>Full-stack developer</td>\n",
       "      <td>3-5 years</td>\n",
       "      <td>...</td>\n",
       "      <td>25 - 34 years old</td>\n",
       "      <td>None</td>\n",
       "      <td>Black or of African descent</td>\n",
       "      <td>Bachelor’s degree (BA, BS, B.Eng., etc.)</td>\n",
       "      <td>Male</td>\n",
       "      <td>Between 5:00 - 6:00 AM</td>\n",
       "      <td>9 - 12 hours</td>\n",
       "      <td>1 - 2 hours</td>\n",
       "      <td>Never</td>\n",
       "      <td>Standing desk</td>\n",
       "    </tr>\n",
       "    <tr>\n",
       "      <th>3</th>\n",
       "      <td>Yes</td>\n",
       "      <td>Yes</td>\n",
       "      <td>United Kingdom</td>\n",
       "      <td>No</td>\n",
       "      <td>Employed full-time</td>\n",
       "      <td>Bachelor’s degree (BA, BS, B.Eng., etc.)</td>\n",
       "      <td>A natural science (ex. biology, chemistry, phy...</td>\n",
       "      <td>10,000 or more employees</td>\n",
       "      <td>Database administrator;DevOps specialist;Full-...</td>\n",
       "      <td>30 or more years</td>\n",
       "      <td>...</td>\n",
       "      <td>35 - 44 years old</td>\n",
       "      <td>None</td>\n",
       "      <td>White or of European descent</td>\n",
       "      <td>Bachelor’s degree (BA, BS, B.Eng., etc.)</td>\n",
       "      <td>Male</td>\n",
       "      <td>Between 6:01 - 7:00 AM</td>\n",
       "      <td>5 - 8 hours</td>\n",
       "      <td>30 - 59 minutes</td>\n",
       "      <td>Never</td>\n",
       "      <td>Ergonomic keyboard or mouse</td>\n",
       "    </tr>\n",
       "    <tr>\n",
       "      <th>4</th>\n",
       "      <td>Yes</td>\n",
       "      <td>Yes</td>\n",
       "      <td>United States</td>\n",
       "      <td>No</td>\n",
       "      <td>Employed full-time</td>\n",
       "      <td>Associate degree</td>\n",
       "      <td>Computer science, computer engineering, or sof...</td>\n",
       "      <td>20 to 99 employees</td>\n",
       "      <td>Engineering manager;Full-stack developer</td>\n",
       "      <td>24-26 years</td>\n",
       "      <td>...</td>\n",
       "      <td>None</td>\n",
       "      <td>None</td>\n",
       "      <td>None</td>\n",
       "      <td>None</td>\n",
       "      <td>None</td>\n",
       "      <td>None</td>\n",
       "      <td>None</td>\n",
       "      <td>None</td>\n",
       "      <td>None</td>\n",
       "      <td>None</td>\n",
       "    </tr>\n",
       "    <tr>\n",
       "      <th>5</th>\n",
       "      <td>No</td>\n",
       "      <td>No</td>\n",
       "      <td>United States</td>\n",
       "      <td>No</td>\n",
       "      <td>Employed full-time</td>\n",
       "      <td>Bachelor’s degree (BA, BS, B.Eng., etc.)</td>\n",
       "      <td>Computer science, computer engineering, or sof...</td>\n",
       "      <td>100 to 499 employees</td>\n",
       "      <td>Full-stack developer</td>\n",
       "      <td>18-20 years</td>\n",
       "      <td>...</td>\n",
       "      <td>35 - 44 years old</td>\n",
       "      <td>No</td>\n",
       "      <td>White or of European descent</td>\n",
       "      <td>Some college/university study without earning ...</td>\n",
       "      <td>Male</td>\n",
       "      <td>Between 6:01 - 7:00 AM</td>\n",
       "      <td>9 - 12 hours</td>\n",
       "      <td>Less than 30 minutes</td>\n",
       "      <td>3 - 4 times per week</td>\n",
       "      <td>None</td>\n",
       "    </tr>\n",
       "    <tr>\n",
       "      <th>7</th>\n",
       "      <td>Yes</td>\n",
       "      <td>No</td>\n",
       "      <td>South Africa</td>\n",
       "      <td>Yes, part-time</td>\n",
       "      <td>Employed full-time</td>\n",
       "      <td>Some college/university study without earning ...</td>\n",
       "      <td>Computer science, computer engineering, or sof...</td>\n",
       "      <td>10,000 or more employees</td>\n",
       "      <td>Data or business analyst;Desktop or enterprise...</td>\n",
       "      <td>6-8 years</td>\n",
       "      <td>...</td>\n",
       "      <td>18 - 24 years old</td>\n",
       "      <td>None</td>\n",
       "      <td>White or of European descent</td>\n",
       "      <td>Some college/university study without earning ...</td>\n",
       "      <td>Male</td>\n",
       "      <td>Before 5:00 AM</td>\n",
       "      <td>Over 12 hours</td>\n",
       "      <td>1 - 2 hours</td>\n",
       "      <td>Never</td>\n",
       "      <td>None</td>\n",
       "    </tr>\n",
       "  </tbody>\n",
       "</table>\n",
       "<p>5 rows × 26 columns</p>\n",
       "</div>"
      ],
      "text/plain": [
       "           Hobby OpenSource         Country         Student  \\\n",
       "Respondent                                                    \n",
       "1            Yes         No           Kenya              No   \n",
       "3            Yes        Yes  United Kingdom              No   \n",
       "4            Yes        Yes   United States              No   \n",
       "5             No         No   United States              No   \n",
       "7            Yes         No    South Africa  Yes, part-time   \n",
       "\n",
       "                    Employment  \\\n",
       "Respondent                       \n",
       "1           Employed part-time   \n",
       "3           Employed full-time   \n",
       "4           Employed full-time   \n",
       "5           Employed full-time   \n",
       "7           Employed full-time   \n",
       "\n",
       "                                              FormalEducation  \\\n",
       "Respondent                                                      \n",
       "1                    Bachelor’s degree (BA, BS, B.Eng., etc.)   \n",
       "3                    Bachelor’s degree (BA, BS, B.Eng., etc.)   \n",
       "4                                            Associate degree   \n",
       "5                    Bachelor’s degree (BA, BS, B.Eng., etc.)   \n",
       "7           Some college/university study without earning ...   \n",
       "\n",
       "                                               UndergradMajor  \\\n",
       "Respondent                                                      \n",
       "1                                   Mathematics or statistics   \n",
       "3           A natural science (ex. biology, chemistry, phy...   \n",
       "4           Computer science, computer engineering, or sof...   \n",
       "5           Computer science, computer engineering, or sof...   \n",
       "7           Computer science, computer engineering, or sof...   \n",
       "\n",
       "                         CompanySize  \\\n",
       "Respondent                             \n",
       "1                 20 to 99 employees   \n",
       "3           10,000 or more employees   \n",
       "4                 20 to 99 employees   \n",
       "5               100 to 499 employees   \n",
       "7           10,000 or more employees   \n",
       "\n",
       "                                                      DevType  \\\n",
       "Respondent                                                      \n",
       "1                                        Full-stack developer   \n",
       "3           Database administrator;DevOps specialist;Full-...   \n",
       "4                    Engineering manager;Full-stack developer   \n",
       "5                                        Full-stack developer   \n",
       "7           Data or business analyst;Desktop or enterprise...   \n",
       "\n",
       "                 YearsCoding  ...                Age MilitaryUS  \\\n",
       "Respondent                    ...                                 \n",
       "1                  3-5 years  ...  25 - 34 years old       None   \n",
       "3           30 or more years  ...  35 - 44 years old       None   \n",
       "4                24-26 years  ...               None       None   \n",
       "5                18-20 years  ...  35 - 44 years old         No   \n",
       "7                  6-8 years  ...  18 - 24 years old       None   \n",
       "\n",
       "                           RaceEthnicity  \\\n",
       "Respondent                                 \n",
       "1            Black or of African descent   \n",
       "3           White or of European descent   \n",
       "4                                   None   \n",
       "5           White or of European descent   \n",
       "7           White or of European descent   \n",
       "\n",
       "                                             EducationParents Gender  \\\n",
       "Respondent                                                             \n",
       "1                    Bachelor’s degree (BA, BS, B.Eng., etc.)   Male   \n",
       "3                    Bachelor’s degree (BA, BS, B.Eng., etc.)   Male   \n",
       "4                                                        None   None   \n",
       "5           Some college/university study without earning ...   Male   \n",
       "7           Some college/university study without earning ...   Male   \n",
       "\n",
       "                          WakeTime  HoursComputer          HoursOutside  \\\n",
       "Respondent                                                                \n",
       "1           Between 5:00 - 6:00 AM   9 - 12 hours           1 - 2 hours   \n",
       "3           Between 6:01 - 7:00 AM    5 - 8 hours       30 - 59 minutes   \n",
       "4                             None           None                  None   \n",
       "5           Between 6:01 - 7:00 AM   9 - 12 hours  Less than 30 minutes   \n",
       "7                   Before 5:00 AM  Over 12 hours           1 - 2 hours   \n",
       "\n",
       "                       SkipMeals             ErgonomicDevices  \n",
       "Respondent                                                     \n",
       "1                          Never                Standing desk  \n",
       "3                          Never  Ergonomic keyboard or mouse  \n",
       "4                           None                         None  \n",
       "5           3 - 4 times per week                         None  \n",
       "7                          Never                         None  \n",
       "\n",
       "[5 rows x 26 columns]"
      ]
     },
     "execution_count": 16,
     "metadata": {},
     "output_type": "execute_result"
    }
   ],
   "source": [
    "selected_response.head()"
   ]
  },
  {
   "cell_type": "markdown",
   "metadata": {},
   "source": [
    "## Developers from around the country"
   ]
  },
  {
   "cell_type": "code",
   "execution_count": 17,
   "metadata": {},
   "outputs": [],
   "source": [
    "# DEVELOPERS FROM AROUND THE COUNTRY\n",
    "country_responses = set(selected_response[\"Country\"])\n",
    "total_appearance_of_each_country = Counter(selected_response[\"Country\"])\n",
    "\n",
    "# print(len(country_responses))\n",
    "# print(total_appearance_of_each_country)\n",
    "# Counter({'United States': 20309, 'India': 13721, 'Germany': 6459, 'United Kingdom': 6221, 'Canada': 3393, 'Russian Federation': 2869, 'France': 2572, 'Brazil': 2505, 'Poland': 2122, 'Australia': 2018, 'Netherlands': 1841, 'Spain': 1769, 'Italy': 1535, 'Ukraine': 1279, 'Sweden': 1164, 'Pakistan': 1050, 'China': 1037, 'Switzerland': 1010, 'Turkey': 1004, 'Israel': 1003, 'Iran, Islamic Republic of...': 921, 'Romania': 793, 'Austria': 788, 'Czech Republic': 784, 'Belgium': 743, 'Mexico': 736, 'Bangladesh': 697, 'Denmark': 653, 'South Africa': 637, 'Indonesia': 630, 'Argentina': 611, 'Norway': 565, 'New Zealand': 557, 'Ireland': 554, 'Portugal': 528, 'Finland': 521, 'Philippines': 520, 'Greece': 516, 'Hungary': 470, 'Sri Lanka': 454, 'Bulgaria': 425, 'Egypt': 419, None: 412, 'Nigeria': 399, 'Singapore': 376, 'Malaysia': 363, 'Japan': 361, 'Serbia': 358, 'Colombia': 339, 'Belarus': 339, 'Viet Nam': 331, 'Nepal': 295, 'Lithuania': 257, 'Croatia': 241, 'Chile': 238, 'Slovakia': 238, 'Slovenia': 238, 'Hong Kong (S.A.R.)': 219, 'Thailand': 213, 'Morocco': 213, 'Taiwan': 207, 'Kenya': 194, 'United Arab Emirates': 193, 'Estonia': 189, 'South Korea': 169, 'Tunisia': 163, 'Latvia': 145, 'Algeria': 130, 'Saudi Arabia': 130, 'Peru': 128, 'Bosnia and Herzegovina': 125, 'Venezuela, Bolivarian Republic of...': 123, 'Armenia': 117, 'Dominican Republic': 115, 'Albania': 109, 'Lebanon': 107, 'Kazakhstan': 107, 'Uruguay': 102, 'Costa Rica': 98, 'Other Country (Not Listed Above)': 84, 'Jordan': 83, 'Azerbaijan': 78, 'Ghana': 76, 'Republic of Moldova': 76, 'Georgia': 75, 'Uganda': 67, 'Malta': 66, 'Cuba': 65, 'Ecuador': 65, 'Afghanistan': 64, 'Republic of Korea': 62, 'Cambodia': 60, 'Ethiopia': 60, 'Luxembourg': 59, 'Uzbekistan': 56, 'Syrian Arab Republic': 56, 'Myanmar': 55, 'The former Yugoslav Republic of Macedonia': 54, 'Guatemala': 50, 'Paraguay': 49, 'United Republic of Tanzania': 49, 'Cyprus': 49, 'El Salvador': 46, 'Iceland': 45, 'Bolivia': 44, 'Iraq': 42, 'Zimbabwe': 39, 'Mauritius': 35, 'Cameroon': 34, 'Panama': 32, 'Nicaragua': 31, 'Honduras': 25, 'Sudan': 25, 'Qatar': 23, 'Kuwait': 23, 'Kyrgyzstan': 22, 'Mozambique': 21, 'Mongolia': 21, 'Oman': 20, 'Jamaica': 20, 'Trinidad and Tobago': 20, 'Madagascar': 19, 'Rwanda': 18, 'Bahrain': 16, 'Montenegro': 15, 'Andorra': 15, 'Libyan Arab Jamahiriya': 14, 'Yemen': 13, 'Senegal': 13, 'Angola': 11, 'Somalia': 10, 'Maldives': 10, 'Benin': 10, 'Antigua and Barbuda': 9, 'Malawi': 9, 'Zambia': 9, 'Fiji': 8, 'Haiti': 8, 'Democratic Republic of the Congo': 7, \"Côte d'Ivoire\": 7, 'Bhutan': 6, 'Turkmenistan': 6, 'Namibia': 6, 'Bahamas': 6, 'Congo, Republic of the...': 6, 'Liechtenstein': 5, 'Gabon': 5, 'Gambia': 5, 'Togo': 5, 'Burkina Faso': 5, 'Botswana': 4, 'Barbados': 4, 'Tajikistan': 4, 'Monaco': 4, 'North Korea': 4, 'Swaziland': 3, 'Guinea': 3, 'Mauritania': 3, 'Liberia': 3, 'Cape Verde': 3, 'Micronesia, Federated States of...': 2, 'Lesotho': 2, 'Marshall Islands': 2, 'Central African Republic': 2, 'Palau': 2, 'Suriname': 2, 'Dominica': 2, 'Niger': 2, 'Guyana': 2, \"Democratic People's Republic of Korea\": 2, 'San Marino': 1, 'Burundi': 1, 'Sierra Leone': 1, 'Grenada': 1, 'Belize': 1, 'Timor-Leste': 1, 'Solomon Islands': 1, 'Saint Lucia': 1, 'Nauru': 1, 'Mali': 1, 'Brunei Darussalam': 1, 'Eritrea': 1, 'Djibouti': 1, 'Guinea-Bissau': 1})"
   ]
  },
  {
   "cell_type": "code",
   "execution_count": 18,
   "metadata": {},
   "outputs": [],
   "source": [
    "\n",
    "# # Calculate the Mean\n",
    "# total_num = 0\n",
    "# for items in total_appearance_of_each_country.items():\n",
    "#     total_num += items[1]\n",
    "# print(total_num / (len(total_appearance_of_each_country.items())))\n",
    " "
   ]
  },
  {
   "cell_type": "code",
   "execution_count": 19,
   "metadata": {},
   "outputs": [
    {
     "name": "stdout",
     "output_type": "stream",
     "text": [
      "United States         20309\n",
      "India                 13721\n",
      "Germany                6459\n",
      "United Kingdom         6221\n",
      "Canada                 3393\n",
      "Russian Federation     2869\n",
      "France                 2572\n",
      "Brazil                 2505\n",
      "Poland                 2122\n",
      "Australia              2018\n",
      "Netherlands            1841\n",
      "Spain                  1769\n",
      "Italy                  1535\n",
      "Ukraine                1279\n",
      "Sweden                 1164\n",
      "Pakistan               1050\n",
      "China                  1037\n",
      "Switzerland            1010\n",
      "Turkey                 1004\n",
      "Israel                 1003\n",
      "Name: Country, dtype: int64\n"
     ]
    }
   ],
   "source": [
    "selected_10_countries = selected_response[\"Country\"].dropna().value_counts().head(20)   \n",
    "print(selected_10_countries)"
   ]
  },
  {
   "cell_type": "code",
   "execution_count": 20,
   "metadata": {},
   "outputs": [],
   "source": [
    "country_label = []\n",
    "country_count = []\n",
    "for i in selected_10_countries:\n",
    "    country_label.append(selected_10_countries[selected_10_countries == i ].index[0])\n",
    "    country_count.append(i)"
   ]
  },
  {
   "cell_type": "code",
   "execution_count": 21,
   "metadata": {},
   "outputs": [
    {
     "data": {
      "image/png": "[encoded data removed]",
      "text/plain": [
       "<Figure size 1800x756 with 1 Axes>"
      ]
     },
     "metadata": {
      "needs_background": "light"
     },
     "output_type": "display_data"
    }
   ],
   "source": [
    "plt.bar(country_label, country_count, align='center', alpha=0.5)\n",
    "plt.xticks(country_label)\n",
    "plt.ylabel('Respondent Count')\n",
    "plt.title('Main stackoverflow survey respondents')\n",
    "\n",
    "plt.savefig(\"./Figure/CountryRespondents.png\")\n",
    "fig = plt.gcf()\n",
    "fig.set_size_inches(25, 10.5)\n",
    "plt.show()"
   ]
  },
  {
   "cell_type": "code",
   "execution_count": 22,
   "metadata": {},
   "outputs": [
    {
     "data": {
      "text/plain": [
       "['United States',\n",
       " 'India',\n",
       " 'Germany',\n",
       " 'United Kingdom',\n",
       " 'Canada',\n",
       " 'Russian Federation',\n",
       " 'France',\n",
       " 'Brazil',\n",
       " 'Poland',\n",
       " 'Australia',\n",
       " 'Netherlands',\n",
       " 'Spain',\n",
       " 'Italy',\n",
       " 'Ukraine',\n",
       " 'Sweden',\n",
       " 'Pakistan',\n",
       " 'China',\n",
       " 'Switzerland',\n",
       " 'Turkey',\n",
       " 'Israel']"
      ]
     },
     "execution_count": 22,
     "metadata": {},
     "output_type": "execute_result"
    }
   ],
   "source": [
    "country_label"
   ]
  },
  {
   "cell_type": "markdown",
   "metadata": {},
   "source": [
    "### Out of the 98,855 respondents, there were developers from 184 countries involved!\n",
    "Out of the 184 countries the top contributing countries are\n",
    "['United States',\n",
    " 'India',\n",
    " 'Germany',\n",
    " 'United Kingdom',\n",
    " 'Canada',\n",
    " 'Russian Federation',\n",
    " 'France',\n",
    " 'Brazil',\n",
    " 'Poland',\n",
    " 'Australia',\n",
    " 'Netherlands',\n",
    " 'Spain',\n",
    " 'Italy',\n",
    " 'Ukraine',\n",
    " 'Sweden',\n",
    " 'Pakistan',\n",
    " 'China',\n",
    " 'Switzerland',\n",
    " 'Turkey',\n",
    " 'Israel']"
   ]
  },
  {
   "cell_type": "markdown",
   "metadata": {},
   "source": [
    "---\n",
    "## Now we check out the gender ratio"
   ]
  },
  {
   "cell_type": "code",
   "execution_count": 23,
   "metadata": {},
   "outputs": [
    {
     "name": "stdout",
     "output_type": "stream",
     "text": [
      "{'Transgender', 'Male', 'Female', 'Non-binary, genderqueer, or gender non-conforming'}\n"
     ]
    }
   ],
   "source": [
    "gender_responses = selected_response[\"Gender\"]\n",
    "# print(gender_responses)\n",
    "total_gender_responses = []\n",
    "for i in gender_responses: \n",
    "    if i != None:\n",
    "        i = i.split(\";\") \n",
    "        if type(i) == list:\n",
    "            for q in i :\n",
    "                total_gender_responses.append(q)\n",
    "        else:\n",
    "            total_gender_responses.append(i)\n",
    "        \n",
    "        \n",
    "set_gender_response = set(total_gender_responses)\n",
    "print(set_gender_response)\n",
    "# print(json.dumps(gender_set_responses , indent = 4))\n",
    "# total_appearance_of_each_country = Counter(selected_response[\"Country\"])"
   ]
  },
  {
   "cell_type": "code",
   "execution_count": 24,
   "metadata": {},
   "outputs": [],
   "source": [
    "gender_dict = {}\n",
    "gender_dict[\"Male\"] = 0\n",
    "gender_dict[\"Female\"] = 0 \n",
    "gender_dict[\"Others\"] = 0\n",
    "gender_dict[\"Undisclosed\"] = 0\n",
    "for i in selected_response[\"Gender\"]:\n",
    "#     print(i) \n",
    "    if i is None: \n",
    "        gender_dict[\"Undisclosed\"] +=1 \n",
    "    elif \"Male\" in i:\n",
    "        gender_dict[\"Male\"] += 1\n",
    "    elif \"Female\" in i :\n",
    "        gender_dict[\"Female\"] +=1 \n",
    "    else:\n",
    "        gender_dict[\"Others\"] +=1 \n",
    "    "
   ]
  },
  {
   "cell_type": "code",
   "execution_count": 25,
   "metadata": {},
   "outputs": [],
   "source": [
    "gender_count = []\n",
    "gender_count.append(gender_dict[\"Male\"])\n",
    "gender_count.append(gender_dict[\"Female\"])\n",
    "gender_count.append(gender_dict[\"Undisclosed\"])\n",
    "gender_count.append(gender_dict[\"Others\"])\n",
    "gender_label = \"Male\" , \"Female\" , \"Undisclosed\" , \"Others\""
   ]
  },
  {
   "cell_type": "code",
   "execution_count": 26,
   "metadata": {},
   "outputs": [
    {
     "data": {
      "image/png": "[encoded data removed]",
      "text/plain": [
       "<Figure size 1332x756 with 1 Axes>"
      ]
     },
     "metadata": {},
     "output_type": "display_data"
    }
   ],
   "source": [
    "# GRAPHING GENDER\n",
    "figureObject, axesObject = plt.subplots() \n",
    "\n",
    "plt.pie(gender_count,\n",
    "        labels=gender_label, \n",
    "        autopct='%1.2f', \n",
    "        startangle=90) \n",
    "\n",
    "plt.axis('equal')\n",
    "\n",
    "fig = plt.gcf()\n",
    "fig.set_size_inches(18.5, 10.5)\n",
    "\n",
    "plt.savefig(\"./Figure/GenderPlot.png\")\n",
    "\n",
    "plt.show()"
   ]
  },
  {
   "cell_type": "markdown",
   "metadata": {},
   "source": [
    "---\n",
    "## Now we visualize the age groups"
   ]
  },
  {
   "cell_type": "code",
   "execution_count": 27,
   "metadata": {},
   "outputs": [],
   "source": [
    "age_responses = selected_response[\"Age\"]"
   ]
  },
  {
   "cell_type": "code",
   "execution_count": 28,
   "metadata": {},
   "outputs": [
    {
     "data": {
      "text/plain": [
       "array(['25 - 34 years old', '35 - 44 years old', None,\n",
       "       '18 - 24 years old', '45 - 54 years old', '55 - 64 years old',\n",
       "       'Under 18 years old', '65 years or older'], dtype=object)"
      ]
     },
     "execution_count": 28,
     "metadata": {},
     "output_type": "execute_result"
    }
   ],
   "source": [
    "age_responses.unique()"
   ]
  },
  {
   "cell_type": "code",
   "execution_count": 29,
   "metadata": {},
   "outputs": [],
   "source": [
    "age_responses = selected_response.groupby(\"Age\").nunique()"
   ]
  },
  {
   "cell_type": "code",
   "execution_count": 30,
   "metadata": {},
   "outputs": [],
   "source": [
    "age_responses = selected_response.Age.value_counts()"
   ]
  },
  {
   "cell_type": "code",
   "execution_count": 31,
   "metadata": {},
   "outputs": [],
   "source": [
    "age_label = []\n",
    "age_value = []\n",
    "for i in age_responses:\n",
    "#     print*()\n",
    "    age_label.append(age_responses[age_responses == i].index[0])\n",
    "    age_value.append(i)"
   ]
  },
  {
   "cell_type": "code",
   "execution_count": 32,
   "metadata": {},
   "outputs": [
    {
     "data": {
      "image/png": "[encoded data removed]",
      "text/plain": [
       "<Figure size 1332x756 with 1 Axes>"
      ]
     },
     "metadata": {},
     "output_type": "display_data"
    }
   ],
   "source": [
    "fig1, ax1 = plt.subplots()\n",
    "ax1.pie(age_value, labels=age_label, autopct='%1.1f%%', shadow=True)\n",
    "ax1.axis('equal')\n",
    "fig = plt.gcf()\n",
    "fig.set_size_inches(18.5, 10.5)\n",
    "plt.savefig(\"./Figure/age_pie\")\n",
    "plt.show()"
   ]
  },
  {
   "cell_type": "markdown",
   "metadata": {},
   "source": [
    "---\n",
    "## Visualize contribution to open source"
   ]
  },
  {
   "cell_type": "code",
   "execution_count": 33,
   "metadata": {},
   "outputs": [],
   "source": [
    "open_source_response = selected_response[\"OpenSource\"]"
   ]
  },
  {
   "cell_type": "code",
   "execution_count": 34,
   "metadata": {},
   "outputs": [],
   "source": [
    "open_source_count_unique = selected_response.OpenSource.value_counts()"
   ]
  },
  {
   "cell_type": "code",
   "execution_count": 35,
   "metadata": {},
   "outputs": [],
   "source": [
    "open_source_label = []\n",
    "open_source_count_total = []\n",
    "for i in open_source_count_unique: \n",
    "    open_source_label.append(open_source_count_unique[open_source_count_unique == i ].index[0])\n",
    "    open_source_count_total.append(i)"
   ]
  },
  {
   "cell_type": "code",
   "execution_count": 36,
   "metadata": {},
   "outputs": [
    {
     "data": {
      "image/png": "[encoded data removed]",
      "text/plain": [
       "<Figure size 1332x756 with 1 Axes>"
      ]
     },
     "metadata": {},
     "output_type": "display_data"
    }
   ],
   "source": [
    "fig1, ax1 = plt.subplots()\n",
    "ax1.pie(open_source_count_total, labels=open_source_label, autopct='%1.1f%%', shadow=True,\n",
    "        startangle=90)\n",
    "ax1.axis('equal')\n",
    "fig = plt.gcf()\n",
    "fig.set_size_inches(18.5, 10.5)\n",
    "plt.savefig(\"./Figure/open_source\")\n",
    "plt.show()"
   ]
  },
  {
   "cell_type": "markdown",
   "metadata": {},
   "source": [
    "---\n",
    "## Now we try to look at the types of job we get for each age group"
   ]
  },
  {
   "cell_type": "code",
   "execution_count": 37,
   "metadata": {},
   "outputs": [],
   "source": [
    "# jobs_to_year_dev = selected_response[[\"DevType\" , \"YearsCoding\"]]"
   ]
  },
  {
   "cell_type": "code",
   "execution_count": 38,
   "metadata": {},
   "outputs": [],
   "source": [
    "# jobs_to_year_dev"
   ]
  },
  {
   "cell_type": "code",
   "execution_count": 39,
   "metadata": {},
   "outputs": [],
   "source": [
    "# jobs_to_year_dev.YearsCoding.unique()"
   ]
  },
  {
   "cell_type": "code",
   "execution_count": 40,
   "metadata": {},
   "outputs": [],
   "source": [
    "# jobs_to_years_series = jobs_to_year_dev.YearsCoding.value_counts()"
   ]
  },
  {
   "cell_type": "code",
   "execution_count": 41,
   "metadata": {},
   "outputs": [],
   "source": [
    "# jobs_to_years_dict = {} \n",
    "# for i in jobs_to_years_series: \n",
    "#     jobs_to_years_dict[str(jobs_to_years_series[jobs_to_years_series == i ].index[0])] = i \n",
    "# jobs_to_years_dict_keys = jobs_to_years_dict.keys()\n",
    "# jobs_to_years_dict_value = jobs_to_years_dict.values()"
   ]
  },
  {
   "cell_type": "code",
   "execution_count": 42,
   "metadata": {},
   "outputs": [],
   "source": [
    "# group_jobs_to_year_dev = jobs_to_year_dev.groupby(\"DevType\")"
   ]
  },
  {
   "cell_type": "code",
   "execution_count": 43,
   "metadata": {},
   "outputs": [],
   "source": [
    "# group_jobs_to_year_dev.first()"
   ]
  },
  {
   "cell_type": "code",
   "execution_count": 44,
   "metadata": {},
   "outputs": [],
   "source": [
    "# group_jobs_to_year_dev.get_group(\"Back-end developer\")"
   ]
  },
  {
   "cell_type": "markdown",
   "metadata": {},
   "source": [
    "Empty devtype responses 6757"
   ]
  },
  {
   "cell_type": "code",
   "execution_count": 48,
   "metadata": {},
   "outputs": [],
   "source": [
    "def query_year_and_dev():\n",
    "    query_sql = \"SELECT YearsCoding, DevType from \" + main_table + \" WHERE DevType is not null\"\n",
    "    c = conn.cursor()\n",
    "    c.execute(query_sql)\n",
    "    conn.commit()\n",
    "    rows  = c.fetchall()\n",
    "    return rows\n"
   ]
  },
  {
   "cell_type": "code",
   "execution_count": 49,
   "metadata": {},
   "outputs": [
    {
     "data": {
      "text/html": [
       "<div>\n",
       "<style scoped>\n",
       "    .dataframe tbody tr th:only-of-type {\n",
       "        vertical-align: middle;\n",
       "    }\n",
       "\n",
       "    .dataframe tbody tr th {\n",
       "        vertical-align: top;\n",
       "    }\n",
       "\n",
       "    .dataframe thead th {\n",
       "        text-align: right;\n",
       "    }\n",
       "</style>\n",
       "<table border=\"1\" class=\"dataframe\">\n",
       "  <thead>\n",
       "    <tr style=\"text-align: right;\">\n",
       "      <th></th>\n",
       "      <th>YearsCoding</th>\n",
       "      <th>DevType</th>\n",
       "    </tr>\n",
       "  </thead>\n",
       "  <tbody>\n",
       "    <tr>\n",
       "      <th>0</th>\n",
       "      <td>3-5 years</td>\n",
       "      <td>Full-stack developer</td>\n",
       "    </tr>\n",
       "    <tr>\n",
       "      <th>1</th>\n",
       "      <td>30 or more years</td>\n",
       "      <td>Database administrator;DevOps specialist;Full-...</td>\n",
       "    </tr>\n",
       "    <tr>\n",
       "      <th>2</th>\n",
       "      <td>24-26 years</td>\n",
       "      <td>Engineering manager;Full-stack developer</td>\n",
       "    </tr>\n",
       "    <tr>\n",
       "      <th>3</th>\n",
       "      <td>18-20 years</td>\n",
       "      <td>Full-stack developer</td>\n",
       "    </tr>\n",
       "    <tr>\n",
       "      <th>4</th>\n",
       "      <td>6-8 years</td>\n",
       "      <td>Data or business analyst;Desktop or enterprise...</td>\n",
       "    </tr>\n",
       "    <tr>\n",
       "      <th>...</th>\n",
       "      <td>...</td>\n",
       "      <td>...</td>\n",
       "    </tr>\n",
       "    <tr>\n",
       "      <th>92093</th>\n",
       "      <td>0-2 years</td>\n",
       "      <td>Data or business analyst</td>\n",
       "    </tr>\n",
       "    <tr>\n",
       "      <th>92094</th>\n",
       "      <td>30 or more years</td>\n",
       "      <td>Designer</td>\n",
       "    </tr>\n",
       "    <tr>\n",
       "      <th>92095</th>\n",
       "      <td>0-2 years</td>\n",
       "      <td>Back-end developer;QA or test developer;Student</td>\n",
       "    </tr>\n",
       "    <tr>\n",
       "      <th>92096</th>\n",
       "      <td>3-5 years</td>\n",
       "      <td>Back-end developer;Designer;Student</td>\n",
       "    </tr>\n",
       "    <tr>\n",
       "      <th>92097</th>\n",
       "      <td>0-2 years</td>\n",
       "      <td>Back-end developer;Front-end developer</td>\n",
       "    </tr>\n",
       "  </tbody>\n",
       "</table>\n",
       "<p>92098 rows × 2 columns</p>\n",
       "</div>"
      ],
      "text/plain": [
       "            YearsCoding                                            DevType\n",
       "0             3-5 years                               Full-stack developer\n",
       "1      30 or more years  Database administrator;DevOps specialist;Full-...\n",
       "2           24-26 years           Engineering manager;Full-stack developer\n",
       "3           18-20 years                               Full-stack developer\n",
       "4             6-8 years  Data or business analyst;Desktop or enterprise...\n",
       "...                 ...                                                ...\n",
       "92093         0-2 years                           Data or business analyst\n",
       "92094  30 or more years                                           Designer\n",
       "92095         0-2 years    Back-end developer;QA or test developer;Student\n",
       "92096         3-5 years                Back-end developer;Designer;Student\n",
       "92097         0-2 years             Back-end developer;Front-end developer\n",
       "\n",
       "[92098 rows x 2 columns]"
      ]
     },
     "execution_count": 49,
     "metadata": {},
     "output_type": "execute_result"
    }
   ],
   "source": [
    "years_coding_and_dev_type = pd.DataFrame(query_year_and_dev(), columns = [\"YearsCoding\" , \"DevType\"])\n",
    "years_coding_and_dev_type"
   ]
  },
  {
   "cell_type": "code",
   "execution_count": 50,
   "metadata": {},
   "outputs": [],
   "source": [
    "# Split options and find specific options\n",
    "def find_set_dev_type():\n",
    "    unique_list = []\n",
    "    null_list_dev_type = []\n",
    "    for i in years_coding_and_dev_type.DevType:\n",
    "        if i is not None:\n",
    "            split_list = i.split(\";\") \n",
    "            for i in split_list:\n",
    "                unique_list.append(i)\n",
    "        else :\n",
    "            null_list_dev_type.append(i) \n",
    "    return set(unique_list)\n",
    "    "
   ]
  },
  {
   "cell_type": "code",
   "execution_count": 51,
   "metadata": {},
   "outputs": [
    {
     "data": {
      "text/plain": [
       "{'Back-end developer',\n",
       " 'C-suite executive (CEO, CTO, etc.)',\n",
       " 'Data or business analyst',\n",
       " 'Data scientist or machine learning specialist',\n",
       " 'Database administrator',\n",
       " 'Designer',\n",
       " 'Desktop or enterprise applications developer',\n",
       " 'DevOps specialist',\n",
       " 'Educator or academic researcher',\n",
       " 'Embedded applications or devices developer',\n",
       " 'Engineering manager',\n",
       " 'Front-end developer',\n",
       " 'Full-stack developer',\n",
       " 'Game or graphics developer',\n",
       " 'Marketing or sales professional',\n",
       " 'Mobile developer',\n",
       " 'Product manager',\n",
       " 'QA or test developer',\n",
       " 'Student',\n",
       " 'System administrator'}"
      ]
     },
     "execution_count": 51,
     "metadata": {},
     "output_type": "execute_result"
    }
   ],
   "source": [
    "find_set_dev_type()"
   ]
  },
  {
   "cell_type": "markdown",
   "metadata": {},
   "source": [
    "# DATA SCIENTIST\n",
    "{\n",
    " 'Data or business analyst',\n",
    " 'Data scientist or machine learning specialist',\n",
    " }"
   ]
  },
  {
   "cell_type": "markdown",
   "metadata": {},
   "source": [
    "# Software Developers\n",
    "{'Back-end developer',  \n",
    " 'Database administrator', \n",
    " 'Desktop or enterprise applications developer',\n",
    " 'DevOps specialist', \n",
    " 'Embedded applications or devices developer',\n",
    " 'Engineering manager',\n",
    " 'Front-end developer',\n",
    " 'Full-stack developer',\n",
    " 'Game or graphics developer', \n",
    " 'Mobile developer', \n",
    " 'QA or test developer', \n",
    " 'System administrator'}"
   ]
  },
  {
   "cell_type": "code",
   "execution_count": 52,
   "metadata": {},
   "outputs": [],
   "source": [
    "data_science_position_titles = {\n",
    " 'Data or business analyst',\n",
    " 'Data scientist or machine learning specialist',\n",
    " } "
   ]
  },
  {
   "cell_type": "code",
   "execution_count": 53,
   "metadata": {},
   "outputs": [],
   "source": [
    "def find_year_and_dev_by_DevType():\n",
    "    found_data_scientist = []\n",
    "    coding_years_set = []\n",
    "    for individual_position_block in years_coding_and_dev_type.values:\n",
    "        \n",
    "        this_man_is_a_data_scientist = False\n",
    "        if individual_position_block[1] is not None:\n",
    "            individual_position_block_list = individual_position_block[1].split(\";\")\n",
    "            for indi_positions in individual_position_block_list:\n",
    "                if indi_positions in data_science_position_titles:\n",
    "                    this_man_is_a_data_scientist = True\n",
    "        if this_man_is_a_data_scientist == True:\n",
    "            found_data_scientist.append(individual_position_block)\n",
    "            coding_years_set.append(individual_position_block[0])\n",
    "    coding_years_set = set(coding_years_set)\n",
    "    return found_data_scientist, coding_years_set\n",
    "\n",
    "\n",
    "found_years_devtype_ds , coding_years_set = find_year_and_dev_by_DevType() "
   ]
  },
  {
   "cell_type": "code",
   "execution_count": 54,
   "metadata": {},
   "outputs": [],
   "source": [
    "def count_total_ds_in_age_group():\n",
    "    total_ds_in_age_group = {}\n",
    "    for i in range(0 , len(found_years_devtype_ds)): \n",
    "        try:\n",
    "            total_ds_in_age_group[found_years_devtype_ds[i][0]] += 1\n",
    "        except:\n",
    "            total_ds_in_age_group[found_years_devtype_ds[i][0]] = 1\n",
    "    return total_ds_in_age_group\n",
    "total_ds_in_age_group = count_total_ds_in_age_group()"
   ]
  },
  {
   "cell_type": "code",
   "execution_count": 55,
   "metadata": {},
   "outputs": [],
   "source": [
    "# Sort in Age Order\n",
    "total_ds_in_age_group = { '0-2 years': 1071, '3-5 years': 2798,'6-8 years': 2482,'9-11 years': 1553, '12-14 years': 1071,  '15-17 years': 887,  '18-20 years': 785,'24-26 years': 334, '21-23 years': 425, '27-29 years': 174, '30 or more years': 721}"
   ]
  },
  {
   "cell_type": "code",
   "execution_count": 64,
   "metadata": {},
   "outputs": [
    {
     "data": {
      "image/png": "[encoded data removed]",
      "text/plain": [
       "<Figure size 1440x720 with 1 Axes>"
      ]
     },
     "metadata": {
      "needs_background": "light"
     },
     "output_type": "display_data"
    }
   ],
   "source": [
    "plt.bar(total_ds_in_age_group.keys(), total_ds_in_age_group.values(), align='center', alpha=0.5)\n",
    "plt.ylabel('Number of Data Scientist Respondents')\n",
    "plt.title('Data Scientist Age Groups')\n",
    "fig = plt.gcf()\n",
    "fig.set_size_inches(20, 10) \n",
    "\n",
    "plt.savefig(\"./Figure/Age_DataScientist.png\")\n",
    "plt.show()"
   ]
  },
  {
   "cell_type": "markdown",
   "metadata": {},
   "source": [
    "---\n",
    "## Formal Education\n"
   ]
  },
  {
   "cell_type": "code",
   "execution_count": 67,
   "metadata": {},
   "outputs": [],
   "source": [
    "formal_education = selected_response[[\"FormalEducation\" , \"DevType\"]]"
   ]
  },
  {
   "cell_type": "code",
   "execution_count": 91,
   "metadata": {},
   "outputs": [],
   "source": [
    "cleaned_formal_education = []\n",
    "for i in formal_education.values:\n",
    "#     print(i)\n",
    "#     break\n",
    "    \n",
    "    if i is not None and i[1] is not None and i[0] is not None: \n",
    "        #split multiple jobs positions\n",
    "        dev_type = i[1].split(\";\")\n",
    "        this_man_data_scientist = False\n",
    "        for jobs in dev_type:\n",
    "            if jobs in data_science_position_titles:\n",
    "                this_man_data_scientist = True\n",
    "        if this_man_data_scientist:\n",
    "            cleaned_formal_education.append(i[0])\n",
    "possible_education_credentials = set(cleaned_formal_education)"
   ]
  },
  {
   "cell_type": "code",
   "execution_count": 92,
   "metadata": {},
   "outputs": [
    {
     "data": {
      "text/plain": [
       "{'Associate degree',\n",
       " 'Bachelor’s degree (BA, BS, B.Eng., etc.)',\n",
       " 'I never completed any formal education',\n",
       " 'Master’s degree (MA, MS, M.Eng., MBA, etc.)',\n",
       " 'Other doctoral degree (Ph.D, Ed.D., etc.)',\n",
       " 'Primary/elementary school',\n",
       " 'Professional degree (JD, MD, etc.)',\n",
       " 'Secondary school (e.g. American high school, German Realschule or Gymnasium, etc.)',\n",
       " 'Some college/university study without earning a degree'}"
      ]
     },
     "execution_count": 92,
     "metadata": {},
     "output_type": "execute_result"
    }
   ],
   "source": [
    "possible_education_credentials"
   ]
  },
  {
   "cell_type": "code",
   "execution_count": 95,
   "metadata": {},
   "outputs": [],
   "source": [
    "total_degree_for_ds = {}\n",
    "for i in formal_education.values:\n",
    "    if i is not None and i[1] is not None and i[0] is not None:\n",
    "        try:\n",
    "            total_degree_for_ds[i[0]] +=1\n",
    "        except :\n",
    "            total_degree_for_ds[i[0]]= 1"
   ]
  },
  {
   "cell_type": "code",
   "execution_count": 96,
   "metadata": {},
   "outputs": [
    {
     "data": {
      "text/plain": [
       "{'Bachelor’s degree (BA, BS, B.Eng., etc.)': 41848,\n",
       " 'Associate degree': 2798,\n",
       " 'Some college/university study without earning a degree': 11070,\n",
       " 'Master’s degree (MA, MS, M.Eng., MBA, etc.)': 20399,\n",
       " 'Secondary school (e.g. American high school, German Realschule or Gymnasium, etc.)': 8510,\n",
       " 'Primary/elementary school': 1545,\n",
       " 'Professional degree (JD, MD, etc.)': 1318,\n",
       " 'I never completed any formal education': 617,\n",
       " 'Other doctoral degree (Ph.D, Ed.D., etc.)': 2056}"
      ]
     },
     "execution_count": 96,
     "metadata": {},
     "output_type": "execute_result"
    }
   ],
   "source": [
    "total_degree_for_ds"
   ]
  },
  {
   "cell_type": "code",
   "execution_count": 122,
   "metadata": {},
   "outputs": [],
   "source": [
    "print_total_degree_keys = []\n",
    "for i in total_degree_for_ds.keys():\n",
    "    i = i.split(\" \" , 2) \n",
    "    print_total_degree_keys.append(i[0] + \" \" + i [1])"
   ]
  },
  {
   "cell_type": "code",
   "execution_count": 123,
   "metadata": {},
   "outputs": [
    {
     "data": {
      "image/png": "[encoded data removed]",
      "text/plain": [
       "<Figure size 1440x720 with 1 Axes>"
      ]
     },
     "metadata": {
      "needs_background": "light"
     },
     "output_type": "display_data"
    }
   ],
   "source": [
    "plt.bar(print_total_degree_keys, list(total_degree_for_ds.values()), align='center', alpha=0.5)\n",
    "plt.ylabel('Number of Data Scientist Respondents')\n",
    "plt.title('Data Scientist Education Degree')\n",
    "fig = plt.gcf()\n",
    "fig.set_size_inches(20, 10) \n",
    "\n",
    "plt.savefig(\"./Figure/Degree Data Scientist.png\")\n",
    "plt.show()"
   ]
  },
  {
   "cell_type": "code",
   "execution_count": null,
   "metadata": {},
   "outputs": [],
   "source": []
  }
 ],
 "metadata": {
  "kernelspec": {
   "display_name": "Python 3",
   "language": "python",
   "name": "python3"
  },
  "language_info": {
   "codemirror_mode": {
    "name": "ipython",
    "version": 3
   },
   "file_extension": ".py",
   "mimetype": "text/x-python",
   "name": "python",
   "nbconvert_exporter": "python",
   "pygments_lexer": "ipython3",
   "version": "3.7.4"
  }
 },
 "nbformat": 4,
 "nbformat_minor": 4
}
