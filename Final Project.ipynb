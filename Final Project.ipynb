{
 "cells": [
  {
   "cell_type": "code",
   "execution_count": 1,
   "metadata": {},
   "outputs": [],
   "source": [
    "\n",
    "import numpy as np # linear algebra\n",
    "import pandas as pd # data processing, CSV file I/O (e.g. pd.read_csv)\n",
    "import csv, ast, psycopg2\n",
    "import os\n",
    "import sqlite3\n",
    "import gzip\n",
    "import seaborn as sns\n",
    "import matplotlib.pyplot as plt\n",
    "import json \n",
    "from chart_studio.plotly import iplot\n",
    "import plotly.graph_objects as go\n",
    "from plotly.offline import init_notebook_mode, iplot\n",
    "import statistics\n",
    "\n",
    "\n",
    "from sqlite3 import Error\n",
    "from collections import Counter\n",
    "\n",
    "def create_connection(db_file, delete_db=False):\n",
    "    if delete_db and os.path.exists(db_file):\n",
    "        os.remove(db_file)\n",
    "    conn = None\n",
    "    try:\n",
    "        conn = sqlite3.connect(db_file)\n",
    "        conn.execute(\"PRAGMA foreign_keys = 1\")\n",
    "    except Error as e:\n",
    "        print(e)\n",
    "\n",
    "    return conn\n",
    "\n",
    "\n",
    "def create_table(conn, create_table_sql):\n",
    "    try:\n",
    "        c = conn.cursor()\n",
    "        c.execute(create_table_sql)\n",
    "    except Error as e:\n",
    "        print(e)\n",
    "        \n",
    "def execute_sql(query_sql):\n",
    "\n",
    "    c = conn.cursor()\n",
    "    c.execute(query_sql)\n",
    "    conn.commit()\n",
    "    rows = pd.DataFrame(c.fetchall())\n",
    "    return rows\n"
   ]
  },
  {
   "cell_type": "code",
   "execution_count": 2,
   "metadata": {
    "scrolled": true
   },
   "outputs": [
    {
     "name": "stderr",
     "output_type": "stream",
     "text": [
      "/home/mavericku/anaconda3/lib/python3.7/site-packages/IPython/core/interactiveshell.py:3058: DtypeWarning:\n",
      "\n",
      "Columns (8,12,13,14,15,16,50,51,52,53,55,56,57,58,59,60,61,62,63,64,65,66,67,68,69,70,71,72,73,74,75,76,77,78,79,80,81,82,83,84,85,93,94,95,96,97,98,99,100,101,102,103,104,105,106,107,108,109,110,111,112,113,114,115,116,117,118,119,120,121,122,123,124,125,126,127,128) have mixed types. Specify dtype option on import or set low_memory=False.\n",
      "\n"
     ]
    },
    {
     "data": {
      "text/html": [
       "<div>\n",
       "<style scoped>\n",
       "    .dataframe tbody tr th:only-of-type {\n",
       "        vertical-align: middle;\n",
       "    }\n",
       "\n",
       "    .dataframe tbody tr th {\n",
       "        vertical-align: top;\n",
       "    }\n",
       "\n",
       "    .dataframe thead th {\n",
       "        text-align: right;\n",
       "    }\n",
       "</style>\n",
       "<table border=\"1\" class=\"dataframe\">\n",
       "  <thead>\n",
       "    <tr style=\"text-align: right;\">\n",
       "      <th></th>\n",
       "      <th>Respondent</th>\n",
       "      <th>Hobby</th>\n",
       "      <th>OpenSource</th>\n",
       "      <th>Country</th>\n",
       "      <th>Student</th>\n",
       "      <th>Employment</th>\n",
       "      <th>FormalEducation</th>\n",
       "      <th>UndergradMajor</th>\n",
       "      <th>CompanySize</th>\n",
       "      <th>DevType</th>\n",
       "      <th>...</th>\n",
       "      <th>Exercise</th>\n",
       "      <th>Gender</th>\n",
       "      <th>SexualOrientation</th>\n",
       "      <th>EducationParents</th>\n",
       "      <th>RaceEthnicity</th>\n",
       "      <th>Age</th>\n",
       "      <th>Dependents</th>\n",
       "      <th>MilitaryUS</th>\n",
       "      <th>SurveyTooLong</th>\n",
       "      <th>SurveyEasy</th>\n",
       "    </tr>\n",
       "  </thead>\n",
       "  <tbody>\n",
       "    <tr>\n",
       "      <th>0</th>\n",
       "      <td>1</td>\n",
       "      <td>Yes</td>\n",
       "      <td>No</td>\n",
       "      <td>Kenya</td>\n",
       "      <td>No</td>\n",
       "      <td>Employed part-time</td>\n",
       "      <td>Bachelor’s degree (BA, BS, B.Eng., etc.)</td>\n",
       "      <td>Mathematics or statistics</td>\n",
       "      <td>20 to 99 employees</td>\n",
       "      <td>Full-stack developer</td>\n",
       "      <td>...</td>\n",
       "      <td>3 - 4 times per week</td>\n",
       "      <td>Male</td>\n",
       "      <td>Straight or heterosexual</td>\n",
       "      <td>Bachelor’s degree (BA, BS, B.Eng., etc.)</td>\n",
       "      <td>Black or of African descent</td>\n",
       "      <td>25 - 34 years old</td>\n",
       "      <td>Yes</td>\n",
       "      <td>NaN</td>\n",
       "      <td>The survey was an appropriate length</td>\n",
       "      <td>Very easy</td>\n",
       "    </tr>\n",
       "    <tr>\n",
       "      <th>1</th>\n",
       "      <td>3</td>\n",
       "      <td>Yes</td>\n",
       "      <td>Yes</td>\n",
       "      <td>United Kingdom</td>\n",
       "      <td>No</td>\n",
       "      <td>Employed full-time</td>\n",
       "      <td>Bachelor’s degree (BA, BS, B.Eng., etc.)</td>\n",
       "      <td>A natural science (ex. biology, chemistry, phy...</td>\n",
       "      <td>10,000 or more employees</td>\n",
       "      <td>Database administrator;DevOps specialist;Full-...</td>\n",
       "      <td>...</td>\n",
       "      <td>Daily or almost every day</td>\n",
       "      <td>Male</td>\n",
       "      <td>Straight or heterosexual</td>\n",
       "      <td>Bachelor’s degree (BA, BS, B.Eng., etc.)</td>\n",
       "      <td>White or of European descent</td>\n",
       "      <td>35 - 44 years old</td>\n",
       "      <td>Yes</td>\n",
       "      <td>NaN</td>\n",
       "      <td>The survey was an appropriate length</td>\n",
       "      <td>Somewhat easy</td>\n",
       "    </tr>\n",
       "    <tr>\n",
       "      <th>2</th>\n",
       "      <td>4</td>\n",
       "      <td>Yes</td>\n",
       "      <td>Yes</td>\n",
       "      <td>United States</td>\n",
       "      <td>No</td>\n",
       "      <td>Employed full-time</td>\n",
       "      <td>Associate degree</td>\n",
       "      <td>Computer science, computer engineering, or sof...</td>\n",
       "      <td>20 to 99 employees</td>\n",
       "      <td>Engineering manager;Full-stack developer</td>\n",
       "      <td>...</td>\n",
       "      <td>NaN</td>\n",
       "      <td>NaN</td>\n",
       "      <td>NaN</td>\n",
       "      <td>NaN</td>\n",
       "      <td>NaN</td>\n",
       "      <td>NaN</td>\n",
       "      <td>NaN</td>\n",
       "      <td>NaN</td>\n",
       "      <td>NaN</td>\n",
       "      <td>NaN</td>\n",
       "    </tr>\n",
       "    <tr>\n",
       "      <th>3</th>\n",
       "      <td>5</td>\n",
       "      <td>No</td>\n",
       "      <td>No</td>\n",
       "      <td>United States</td>\n",
       "      <td>No</td>\n",
       "      <td>Employed full-time</td>\n",
       "      <td>Bachelor’s degree (BA, BS, B.Eng., etc.)</td>\n",
       "      <td>Computer science, computer engineering, or sof...</td>\n",
       "      <td>100 to 499 employees</td>\n",
       "      <td>Full-stack developer</td>\n",
       "      <td>...</td>\n",
       "      <td>I don't typically exercise</td>\n",
       "      <td>Male</td>\n",
       "      <td>Straight or heterosexual</td>\n",
       "      <td>Some college/university study without earning ...</td>\n",
       "      <td>White or of European descent</td>\n",
       "      <td>35 - 44 years old</td>\n",
       "      <td>No</td>\n",
       "      <td>No</td>\n",
       "      <td>The survey was an appropriate length</td>\n",
       "      <td>Somewhat easy</td>\n",
       "    </tr>\n",
       "    <tr>\n",
       "      <th>4</th>\n",
       "      <td>7</td>\n",
       "      <td>Yes</td>\n",
       "      <td>No</td>\n",
       "      <td>South Africa</td>\n",
       "      <td>Yes, part-time</td>\n",
       "      <td>Employed full-time</td>\n",
       "      <td>Some college/university study without earning ...</td>\n",
       "      <td>Computer science, computer engineering, or sof...</td>\n",
       "      <td>10,000 or more employees</td>\n",
       "      <td>Data or business analyst;Desktop or enterprise...</td>\n",
       "      <td>...</td>\n",
       "      <td>3 - 4 times per week</td>\n",
       "      <td>Male</td>\n",
       "      <td>Straight or heterosexual</td>\n",
       "      <td>Some college/university study without earning ...</td>\n",
       "      <td>White or of European descent</td>\n",
       "      <td>18 - 24 years old</td>\n",
       "      <td>Yes</td>\n",
       "      <td>NaN</td>\n",
       "      <td>The survey was an appropriate length</td>\n",
       "      <td>Somewhat easy</td>\n",
       "    </tr>\n",
       "  </tbody>\n",
       "</table>\n",
       "<p>5 rows × 129 columns</p>\n",
       "</div>"
      ],
      "text/plain": [
       "   Respondent Hobby OpenSource         Country         Student  \\\n",
       "0           1   Yes         No           Kenya              No   \n",
       "1           3   Yes        Yes  United Kingdom              No   \n",
       "2           4   Yes        Yes   United States              No   \n",
       "3           5    No         No   United States              No   \n",
       "4           7   Yes         No    South Africa  Yes, part-time   \n",
       "\n",
       "           Employment                                    FormalEducation  \\\n",
       "0  Employed part-time           Bachelor’s degree (BA, BS, B.Eng., etc.)   \n",
       "1  Employed full-time           Bachelor’s degree (BA, BS, B.Eng., etc.)   \n",
       "2  Employed full-time                                   Associate degree   \n",
       "3  Employed full-time           Bachelor’s degree (BA, BS, B.Eng., etc.)   \n",
       "4  Employed full-time  Some college/university study without earning ...   \n",
       "\n",
       "                                      UndergradMajor  \\\n",
       "0                          Mathematics or statistics   \n",
       "1  A natural science (ex. biology, chemistry, phy...   \n",
       "2  Computer science, computer engineering, or sof...   \n",
       "3  Computer science, computer engineering, or sof...   \n",
       "4  Computer science, computer engineering, or sof...   \n",
       "\n",
       "                CompanySize  \\\n",
       "0        20 to 99 employees   \n",
       "1  10,000 or more employees   \n",
       "2        20 to 99 employees   \n",
       "3      100 to 499 employees   \n",
       "4  10,000 or more employees   \n",
       "\n",
       "                                             DevType  ...  \\\n",
       "0                               Full-stack developer  ...   \n",
       "1  Database administrator;DevOps specialist;Full-...  ...   \n",
       "2           Engineering manager;Full-stack developer  ...   \n",
       "3                               Full-stack developer  ...   \n",
       "4  Data or business analyst;Desktop or enterprise...  ...   \n",
       "\n",
       "                     Exercise Gender         SexualOrientation  \\\n",
       "0        3 - 4 times per week   Male  Straight or heterosexual   \n",
       "1   Daily or almost every day   Male  Straight or heterosexual   \n",
       "2                         NaN    NaN                       NaN   \n",
       "3  I don't typically exercise   Male  Straight or heterosexual   \n",
       "4        3 - 4 times per week   Male  Straight or heterosexual   \n",
       "\n",
       "                                    EducationParents  \\\n",
       "0           Bachelor’s degree (BA, BS, B.Eng., etc.)   \n",
       "1           Bachelor’s degree (BA, BS, B.Eng., etc.)   \n",
       "2                                                NaN   \n",
       "3  Some college/university study without earning ...   \n",
       "4  Some college/university study without earning ...   \n",
       "\n",
       "                  RaceEthnicity                Age Dependents  MilitaryUS  \\\n",
       "0   Black or of African descent  25 - 34 years old        Yes         NaN   \n",
       "1  White or of European descent  35 - 44 years old        Yes         NaN   \n",
       "2                           NaN                NaN        NaN         NaN   \n",
       "3  White or of European descent  35 - 44 years old         No          No   \n",
       "4  White or of European descent  18 - 24 years old        Yes         NaN   \n",
       "\n",
       "                          SurveyTooLong     SurveyEasy  \n",
       "0  The survey was an appropriate length      Very easy  \n",
       "1  The survey was an appropriate length  Somewhat easy  \n",
       "2                                   NaN            NaN  \n",
       "3  The survey was an appropriate length  Somewhat easy  \n",
       "4  The survey was an appropriate length  Somewhat easy  \n",
       "\n",
       "[5 rows x 129 columns]"
      ]
     },
     "execution_count": 2,
     "metadata": {},
     "output_type": "execute_result"
    }
   ],
   "source": [
    "df = pd.read_csv('survey_results_public.csv')\n",
    "df.head()"
   ]
  },
  {
   "cell_type": "markdown",
   "metadata": {},
   "source": [
    "## AUTOMATE TABLE CREATION"
   ]
  },
  {
   "cell_type": "markdown",
   "metadata": {},
   "source": [
    "We first input the files in to the Database"
   ]
  },
  {
   "cell_type": "code",
   "execution_count": 3,
   "metadata": {},
   "outputs": [],
   "source": [
    "## Determining data type\n",
    "def determine_data_type_of_list(values):  \n",
    "    if type(values) == list:\n",
    "        do_float = 0\n",
    "        do_string = 0\n",
    "        do_int = 0\n",
    "        for x in values: \n",
    "            #print(x)\n",
    "            try: \n",
    "                test_x_float = float(x) \n",
    "                try:\n",
    "                    test_x_int = int(x) \n",
    "                except:\n",
    "                    test_x_int = float(x)\n",
    "                    do_float += 1 \n",
    "                if int(test_x_float) == test_x_int:  \n",
    "                    do_int +=1\n",
    "                else:\n",
    "                    do_float +=1 \n",
    "            except:              \n",
    "                do_string +=1\n",
    "                 \n",
    "        if do_string >0: \n",
    "            return str\n",
    "        elif do_float > 0 : \n",
    "            return float\n",
    "        else : \n",
    "            return int \n",
    "    else:\n",
    "        return determine_data_type(values)"
   ]
  },
  {
   "cell_type": "code",
   "execution_count": 4,
   "metadata": {},
   "outputs": [],
   "source": [
    "all_columns = [] \n",
    "main_table = \"stack_overflow_survey\""
   ]
  },
  {
   "cell_type": "code",
   "execution_count": 5,
   "metadata": {},
   "outputs": [],
   "source": [
    "statement = 'create table if not exists ' + main_table  + ' (' \n",
    "for column in df.columns.values:\n",
    "    all_columns.append(column)\n",
    "    column_data_type = determine_data_type_of_list(df[column].tolist())\n",
    "#     print(column_data_type)\n",
    "    if column_data_type == str: \n",
    "        statement = (statement + '\\n{} text,').format(column.lower() )\n",
    "    elif column == \"Respondent\":\n",
    "        \n",
    "        statement = (statement + '\\n{} int not null primary key,').format(column.lower() )\n",
    "    else:\n",
    "        statement = (statement + '\\n' + '{} {}' + ',').format(column.lower(), \"int\") \n",
    "statement = statement[:-1] + ');' "
   ]
  },
  {
   "cell_type": "code",
   "execution_count": 6,
   "metadata": {},
   "outputs": [],
   "source": [
    "#CREATE TABLES\n",
    "create_table_sql = statement\n",
    "sql_table_name = \"Stack_Over_Flow_Survey.db\"\n",
    "conn = create_connection(sql_table_name) \n",
    "create_table(conn , create_table_sql)"
   ]
  },
  {
   "cell_type": "code",
   "execution_count": 8,
   "metadata": {},
   "outputs": [],
   "source": [
    "insert_sql = \"\"\"INSERT INTO stack_overflow_survey (respondent, hobby, opensource, country, student, employment, formaleducation, undergradmajor, companysize, devtype, yearscoding, yearscodingprof, jobsatisfaction, careersatisfaction, hopefiveyears, jobsearchstatus, lastnewjob, assessjob1, assessjob2, assessjob3, assessjob4, assessjob5, assessjob6, assessjob7, assessjob8, assessjob9, assessjob10, assessbenefits1, assessbenefits2, assessbenefits3, assessbenefits4, assessbenefits5, assessbenefits6, assessbenefits7, assessbenefits8, assessbenefits9, assessbenefits10, assessbenefits11, jobcontactpriorities1, jobcontactpriorities2, jobcontactpriorities3, jobcontactpriorities4, jobcontactpriorities5, jobemailpriorities1, jobemailpriorities2, jobemailpriorities3, jobemailpriorities4, jobemailpriorities5, jobemailpriorities6, jobemailpriorities7, updatecv, currency, salary, salarytype, convertedsalary, currencysymbol, communicationtools, timefullyproductive, educationtypes, selftaughttypes, timeafterbootcamp, hackathonreasons, agreedisagree1, agreedisagree2, agreedisagree3, languageworkedwith, languagedesirenextyear, databaseworkedwith, databasedesirenextyear, platformworkedwith, platformdesirenextyear, frameworkworkedwith, frameworkdesirenextyear, ide, operatingsystem, numbermonitors, methodology, versioncontrol, checkincode, adblocker, adblockerdisable, adblockerreasons, adsagreedisagree1, adsagreedisagree2, adsagreedisagree3, adsactions, adspriorities1, adspriorities2, adspriorities3, adspriorities4, adspriorities5, adspriorities6, adspriorities7, aidangerous, aiinteresting, airesponsible, aifuture, ethicschoice, ethicsreport, ethicsresponsible, ethicalimplications, stackoverflowrecommend, stackoverflowvisit, stackoverflowhasaccount, stackoverflowparticipate, stackoverflowjobs, stackoverflowdevstory, stackoverflowjobsrecommend, stackoverflowconsidermember, hypotheticaltools1, hypotheticaltools2, hypotheticaltools3, hypotheticaltools4, hypotheticaltools5, waketime, hourscomputer, hoursoutside, skipmeals, ergonomicdevices, exercise, gender, sexualorientation, educationparents, raceethnicity, age, dependents, militaryus, surveytoolong, surveyeasy) \n",
    "VALUES (?, ?, ?, ?, ?, ?, ?, ?, ?, ?, ?, ?, ?, ?, ?, ?, ?, ?, ?, ?, ?, ?, ?, ?, ?, ?, ?, ?, ?, ?, ?, ?, ?, ?, ?, ?, ?, ?, ?, ?, ?, ?, ?, ?, ?, ?, ?, ?, ?, ?, ?, ?, ?, ?, ?, ?, ?, ?, ?, ?, ?, ?, ?, ?, ?, ?, ?, ?, ?, ?, ?, ?, ?, ?, ?, ?, ?, ?, ?, ?, ?, ?, ?, ?, ?, ?, ?, ?, ?, ?, ?, ?, ?, ?, ?, ?, ?, ?, ?, ?, ?, ?, ?, ?, ?, ?, ?, ?, ?, ?, ?, ?, ?, ?, ?, ?, ?, ?, ?, ?, ?, ?, ?, ?, ?, ?, ?, ?, ?)\n",
    "\"\"\"\n",
    "# insert_\n",
    "# # print(statement)\n",
    "# print(len(all_columns))\n",
    "\n",
    "# for i in range(0 , 129):\n",
    "#     print(\"?, \", end = \"\")"
   ]
  },
  {
   "cell_type": "code",
   "execution_count": 9,
   "metadata": {},
   "outputs": [],
   "source": [
    "# print(insert_sql)"
   ]
  },
  {
   "cell_type": "code",
   "execution_count": 10,
   "metadata": {},
   "outputs": [],
   "source": [
    "# INSERT FUNCTION\n",
    "def insert_rows_to_db(conn, data_tuple): \n",
    "    try:\n",
    "        c = conn.cursor()\n",
    "        c.executemany(insert_sql, data_tuple)\n",
    "        conn.commit()\n",
    "    except Error as e:  \n",
    "        print(e)"
   ]
  },
  {
   "cell_type": "code",
   "execution_count": 11,
   "metadata": {},
   "outputs": [],
   "source": [
    "# EXTRACT DATA\n",
    "index_print_times = 0\n",
    "test_times = 30\n",
    "all_respondet_answer_tuple = []\n",
    "for index, value in  df.iterrows(): \n",
    "    respondent_answer_tuple = [] \n",
    "    for columns in all_columns: \n",
    "        respondent_answer_tuple.append(value[columns])\n",
    "        index_print_times += 1  \n",
    "#     insert_rows_to_db(conn, tuple(respondent_answer_tuple))\n",
    "    all_respondet_answer_tuple.append(tuple(respondent_answer_tuple)) \n",
    "    \n",
    "############### IF ERROR, DELETE .DB FILE THEN RERUN #########################"
   ]
  },
  {
   "cell_type": "code",
   "execution_count": 12,
   "metadata": {},
   "outputs": [
    {
     "name": "stdout",
     "output_type": "stream",
     "text": [
      "UNIQUE constraint failed: stack_overflow_survey.respondent\n"
     ]
    }
   ],
   "source": [
    "# INSERT TO DB\n",
    "insert_rows_to_db(conn, all_respondet_answer_tuple)"
   ]
  },
  {
   "cell_type": "markdown",
   "metadata": {},
   "source": [
    "# First, we analyze our users"
   ]
  },
  {
   "cell_type": "markdown",
   "metadata": {},
   "source": [
    "We first take a look at the respondents that have taken the survey\n",
    "We wish to know\n",
    "1. The amount of respondents from each of the countries\n",
    "2. The male/female ratio\n",
    "3. The age group of respondents\n",
    "4. How many code as a hobby\n",
    "5. The typical degree type and major\n",
    "6. Type of developer"
   ]
  },
  {
   "cell_type": "code",
   "execution_count": 13,
   "metadata": {},
   "outputs": [],
   "source": [
    "select_sql = \"SELECT ? \"\n",
    "select_from_table = \"FROM \" + main_table + \" WHERE country = 'United States' AND Student = 'No' AND employment = 'Employed full-time' AND convertedsalary is not null\"\n",
    "select_columns = [\"Respondent\", \"Hobby\" , \"OpenSource\" , \"Country\" , \"Student\" , \"Employment\" , \n",
    "                  \"FormalEducation\" , \"UndergradMajor\" , \"CompanySize\" , \"DevType\" , \"YearsCoding\" ,\n",
    "                  \"YearsCodingProf\" , \"JobSatisfaction\" , \"CareerSatisfaction\" , \"HopeFiveYears\" , \"JobSearchStatus\" , \n",
    "                  \"LastNewJob\" ,\"Age\" , \"MilitaryUS\" , \"RaceEthnicity\" , \"EducationParents\" , \"Gender\" ,\"WakeTime\" ,\n",
    "                  \"HoursComputer\" , \"HoursOutside\" , \"SkipMeals\" , \"ErgonomicDevices\", \"convertedsalary\"]"
   ]
  },
  {
   "cell_type": "code",
   "execution_count": 14,
   "metadata": {},
   "outputs": [
    {
     "name": "stdout",
     "output_type": "stream",
     "text": [
      "SELECT  Respondent ,Hobby ,OpenSource ,Country ,Student ,Employment ,FormalEducation ,UndergradMajor ,CompanySize ,DevType ,YearsCoding ,YearsCodingProf ,JobSatisfaction ,CareerSatisfaction ,HopeFiveYears ,JobSearchStatus ,LastNewJob ,Age ,MilitaryUS ,RaceEthnicity ,EducationParents ,Gender ,WakeTime ,HoursComputer ,HoursOutside ,SkipMeals ,ErgonomicDevices ,convertedsalary  FROM stack_overflow_survey WHERE country = 'United States' AND Student = 'No' AND employment = 'Employed full-time' AND convertedsalary is not null\n"
     ]
    }
   ],
   "source": [
    "select_column_whole = \" \"\n",
    "for column in select_columns:\n",
    "    select_column_whole = select_column_whole + column + \" ,\"\n",
    "select_column_whole = select_column_whole[:-1] \n",
    "select_sql = select_sql.replace(\"?\" , select_column_whole, 1) + select_from_table \n",
    "print(select_sql)"
   ]
  },
  {
   "cell_type": "code",
   "execution_count": 15,
   "metadata": {},
   "outputs": [],
   "source": [
    "c = conn.cursor()\n",
    "c.execute(select_sql)\n",
    "conn.commit()"
   ]
  },
  {
   "cell_type": "code",
   "execution_count": 16,
   "metadata": {},
   "outputs": [],
   "source": [
    "select_respondent_reponse = c.fetchall()\n",
    "selected_response = pd.DataFrame(select_respondent_reponse , columns = select_columns)\n",
    "selected_response = selected_response.set_index('Respondent')"
   ]
  },
  {
   "cell_type": "code",
   "execution_count": 17,
   "metadata": {},
   "outputs": [
    {
     "data": {
      "text/html": [
       "<div>\n",
       "<style scoped>\n",
       "    .dataframe tbody tr th:only-of-type {\n",
       "        vertical-align: middle;\n",
       "    }\n",
       "\n",
       "    .dataframe tbody tr th {\n",
       "        vertical-align: top;\n",
       "    }\n",
       "\n",
       "    .dataframe thead th {\n",
       "        text-align: right;\n",
       "    }\n",
       "</style>\n",
       "<table border=\"1\" class=\"dataframe\">\n",
       "  <thead>\n",
       "    <tr style=\"text-align: right;\">\n",
       "      <th></th>\n",
       "      <th>Hobby</th>\n",
       "      <th>OpenSource</th>\n",
       "      <th>Country</th>\n",
       "      <th>Student</th>\n",
       "      <th>Employment</th>\n",
       "      <th>FormalEducation</th>\n",
       "      <th>UndergradMajor</th>\n",
       "      <th>CompanySize</th>\n",
       "      <th>DevType</th>\n",
       "      <th>YearsCoding</th>\n",
       "      <th>...</th>\n",
       "      <th>MilitaryUS</th>\n",
       "      <th>RaceEthnicity</th>\n",
       "      <th>EducationParents</th>\n",
       "      <th>Gender</th>\n",
       "      <th>WakeTime</th>\n",
       "      <th>HoursComputer</th>\n",
       "      <th>HoursOutside</th>\n",
       "      <th>SkipMeals</th>\n",
       "      <th>ErgonomicDevices</th>\n",
       "      <th>convertedsalary</th>\n",
       "    </tr>\n",
       "    <tr>\n",
       "      <th>Respondent</th>\n",
       "      <th></th>\n",
       "      <th></th>\n",
       "      <th></th>\n",
       "      <th></th>\n",
       "      <th></th>\n",
       "      <th></th>\n",
       "      <th></th>\n",
       "      <th></th>\n",
       "      <th></th>\n",
       "      <th></th>\n",
       "      <th></th>\n",
       "      <th></th>\n",
       "      <th></th>\n",
       "      <th></th>\n",
       "      <th></th>\n",
       "      <th></th>\n",
       "      <th></th>\n",
       "      <th></th>\n",
       "      <th></th>\n",
       "      <th></th>\n",
       "      <th></th>\n",
       "    </tr>\n",
       "  </thead>\n",
       "  <tbody>\n",
       "    <tr>\n",
       "      <th>9</th>\n",
       "      <td>Yes</td>\n",
       "      <td>Yes</td>\n",
       "      <td>United States</td>\n",
       "      <td>No</td>\n",
       "      <td>Employed full-time</td>\n",
       "      <td>Some college/university study without earning ...</td>\n",
       "      <td>Computer science, computer engineering, or sof...</td>\n",
       "      <td>10,000 or more employees</td>\n",
       "      <td>Back-end developer;Front-end developer;Full-st...</td>\n",
       "      <td>9-11 years</td>\n",
       "      <td>...</td>\n",
       "      <td>No</td>\n",
       "      <td>White or of European descent</td>\n",
       "      <td>Master’s degree (MA, MS, M.Eng., MBA, etc.)</td>\n",
       "      <td>Male</td>\n",
       "      <td>Between 9:01 - 10:00 AM</td>\n",
       "      <td>Over 12 hours</td>\n",
       "      <td>Less than 30 minutes</td>\n",
       "      <td>1 - 2 times per week</td>\n",
       "      <td>None</td>\n",
       "      <td>120000.0</td>\n",
       "    </tr>\n",
       "    <tr>\n",
       "      <th>11</th>\n",
       "      <td>Yes</td>\n",
       "      <td>Yes</td>\n",
       "      <td>United States</td>\n",
       "      <td>No</td>\n",
       "      <td>Employed full-time</td>\n",
       "      <td>Some college/university study without earning ...</td>\n",
       "      <td>Fine arts or performing arts (ex. graphic desi...</td>\n",
       "      <td>100 to 499 employees</td>\n",
       "      <td>Back-end developer;C-suite executive (CEO, CTO...</td>\n",
       "      <td>30 or more years</td>\n",
       "      <td>...</td>\n",
       "      <td>No</td>\n",
       "      <td>White or of European descent</td>\n",
       "      <td>Some college/university study without earning ...</td>\n",
       "      <td>Male</td>\n",
       "      <td>Between 8:01 - 9:00 AM</td>\n",
       "      <td>9 - 12 hours</td>\n",
       "      <td>Less than 30 minutes</td>\n",
       "      <td>1 - 2 times per week</td>\n",
       "      <td>Standing desk;Fatigue-relieving floor mat</td>\n",
       "      <td>250000.0</td>\n",
       "    </tr>\n",
       "    <tr>\n",
       "      <th>38</th>\n",
       "      <td>Yes</td>\n",
       "      <td>No</td>\n",
       "      <td>United States</td>\n",
       "      <td>No</td>\n",
       "      <td>Employed full-time</td>\n",
       "      <td>Some college/university study without earning ...</td>\n",
       "      <td>None</td>\n",
       "      <td>10 to 19 employees</td>\n",
       "      <td>Back-end developer;Database administrator;DevO...</td>\n",
       "      <td>18-20 years</td>\n",
       "      <td>...</td>\n",
       "      <td>No</td>\n",
       "      <td>White or of European descent</td>\n",
       "      <td>They never completed any formal education</td>\n",
       "      <td>Female;Male;Transgender;Non-binary, genderquee...</td>\n",
       "      <td>Between 7:01 - 8:00 AM</td>\n",
       "      <td>5 - 8 hours</td>\n",
       "      <td>Less than 30 minutes</td>\n",
       "      <td>Daily or almost every day</td>\n",
       "      <td>None</td>\n",
       "      <td>75000.0</td>\n",
       "    </tr>\n",
       "    <tr>\n",
       "      <th>44</th>\n",
       "      <td>No</td>\n",
       "      <td>No</td>\n",
       "      <td>United States</td>\n",
       "      <td>No</td>\n",
       "      <td>Employed full-time</td>\n",
       "      <td>Bachelor’s degree (BA, BS, B.Eng., etc.)</td>\n",
       "      <td>A social science (ex. anthropology, psychology...</td>\n",
       "      <td>100 to 499 employees</td>\n",
       "      <td>Back-end developer;Full-stack developer</td>\n",
       "      <td>3-5 years</td>\n",
       "      <td>...</td>\n",
       "      <td>No</td>\n",
       "      <td>White or of European descent</td>\n",
       "      <td>Master’s degree (MA, MS, M.Eng., MBA, etc.)</td>\n",
       "      <td>Male</td>\n",
       "      <td>Between 7:01 - 8:00 AM</td>\n",
       "      <td>5 - 8 hours</td>\n",
       "      <td>30 - 59 minutes</td>\n",
       "      <td>1 - 2 times per week</td>\n",
       "      <td>Standing desk</td>\n",
       "      <td>900000.0</td>\n",
       "    </tr>\n",
       "    <tr>\n",
       "      <th>51</th>\n",
       "      <td>Yes</td>\n",
       "      <td>No</td>\n",
       "      <td>United States</td>\n",
       "      <td>No</td>\n",
       "      <td>Employed full-time</td>\n",
       "      <td>Bachelor’s degree (BA, BS, B.Eng., etc.)</td>\n",
       "      <td>Web development or web design</td>\n",
       "      <td>500 to 999 employees</td>\n",
       "      <td>Back-end developer;Designer;Front-end develope...</td>\n",
       "      <td>6-8 years</td>\n",
       "      <td>...</td>\n",
       "      <td>No</td>\n",
       "      <td>White or of European descent</td>\n",
       "      <td>Associate degree</td>\n",
       "      <td>Female</td>\n",
       "      <td>Between 5:00 - 6:00 AM</td>\n",
       "      <td>5 - 8 hours</td>\n",
       "      <td>30 - 59 minutes</td>\n",
       "      <td>Never</td>\n",
       "      <td>Standing desk;Fatigue-relieving floor mat</td>\n",
       "      <td>44000.0</td>\n",
       "    </tr>\n",
       "    <tr>\n",
       "      <th>...</th>\n",
       "      <td>...</td>\n",
       "      <td>...</td>\n",
       "      <td>...</td>\n",
       "      <td>...</td>\n",
       "      <td>...</td>\n",
       "      <td>...</td>\n",
       "      <td>...</td>\n",
       "      <td>...</td>\n",
       "      <td>...</td>\n",
       "      <td>...</td>\n",
       "      <td>...</td>\n",
       "      <td>...</td>\n",
       "      <td>...</td>\n",
       "      <td>...</td>\n",
       "      <td>...</td>\n",
       "      <td>...</td>\n",
       "      <td>...</td>\n",
       "      <td>...</td>\n",
       "      <td>...</td>\n",
       "      <td>...</td>\n",
       "      <td>...</td>\n",
       "    </tr>\n",
       "    <tr>\n",
       "      <th>100409</th>\n",
       "      <td>No</td>\n",
       "      <td>No</td>\n",
       "      <td>United States</td>\n",
       "      <td>No</td>\n",
       "      <td>Employed full-time</td>\n",
       "      <td>Bachelor’s degree (BA, BS, B.Eng., etc.)</td>\n",
       "      <td>Computer science, computer engineering, or sof...</td>\n",
       "      <td>None</td>\n",
       "      <td>Back-end developer;QA or test developer</td>\n",
       "      <td>6-8 years</td>\n",
       "      <td>...</td>\n",
       "      <td>No</td>\n",
       "      <td>White or of European descent</td>\n",
       "      <td>Master’s degree (MA, MS, M.Eng., MBA, etc.)</td>\n",
       "      <td>Male</td>\n",
       "      <td>Between 5:00 - 6:00 AM</td>\n",
       "      <td>9 - 12 hours</td>\n",
       "      <td>30 - 59 minutes</td>\n",
       "      <td>Never</td>\n",
       "      <td>None</td>\n",
       "      <td>73000.0</td>\n",
       "    </tr>\n",
       "    <tr>\n",
       "      <th>100685</th>\n",
       "      <td>Yes</td>\n",
       "      <td>Yes</td>\n",
       "      <td>United States</td>\n",
       "      <td>No</td>\n",
       "      <td>Employed full-time</td>\n",
       "      <td>Master’s degree (MA, MS, M.Eng., MBA, etc.)</td>\n",
       "      <td>Computer science, computer engineering, or sof...</td>\n",
       "      <td>None</td>\n",
       "      <td>Back-end developer;Front-end developer;Full-st...</td>\n",
       "      <td>15-17 years</td>\n",
       "      <td>...</td>\n",
       "      <td>No</td>\n",
       "      <td>White or of European descent</td>\n",
       "      <td>Associate degree</td>\n",
       "      <td>Male</td>\n",
       "      <td>Between 6:01 - 7:00 AM</td>\n",
       "      <td>5 - 8 hours</td>\n",
       "      <td>30 - 59 minutes</td>\n",
       "      <td>Never</td>\n",
       "      <td>Standing desk;Fatigue-relieving floor mat</td>\n",
       "      <td>87000.0</td>\n",
       "    </tr>\n",
       "    <tr>\n",
       "      <th>100770</th>\n",
       "      <td>Yes</td>\n",
       "      <td>No</td>\n",
       "      <td>United States</td>\n",
       "      <td>No</td>\n",
       "      <td>Employed full-time</td>\n",
       "      <td>Associate degree</td>\n",
       "      <td>Fine arts or performing arts (ex. graphic desi...</td>\n",
       "      <td>None</td>\n",
       "      <td>Back-end developer;Designer;Front-end develope...</td>\n",
       "      <td>3-5 years</td>\n",
       "      <td>...</td>\n",
       "      <td>No</td>\n",
       "      <td>Hispanic or Latino/Latina;White or of European...</td>\n",
       "      <td>Bachelor’s degree (BA, BS, B.Eng., etc.)</td>\n",
       "      <td>Female</td>\n",
       "      <td>Between 6:01 - 7:00 AM</td>\n",
       "      <td>9 - 12 hours</td>\n",
       "      <td>30 - 59 minutes</td>\n",
       "      <td>Never</td>\n",
       "      <td>Wrist/hand supports or braces</td>\n",
       "      <td>42000.0</td>\n",
       "    </tr>\n",
       "    <tr>\n",
       "      <th>100862</th>\n",
       "      <td>Yes</td>\n",
       "      <td>No</td>\n",
       "      <td>United States</td>\n",
       "      <td>No</td>\n",
       "      <td>Employed full-time</td>\n",
       "      <td>Bachelor’s degree (BA, BS, B.Eng., etc.)</td>\n",
       "      <td>Computer science, computer engineering, or sof...</td>\n",
       "      <td>None</td>\n",
       "      <td>Full-stack developer</td>\n",
       "      <td>3-5 years</td>\n",
       "      <td>...</td>\n",
       "      <td>No</td>\n",
       "      <td>White or of European descent</td>\n",
       "      <td>Master’s degree (MA, MS, M.Eng., MBA, etc.)</td>\n",
       "      <td>Male</td>\n",
       "      <td>Between 7:01 - 8:00 AM</td>\n",
       "      <td>9 - 12 hours</td>\n",
       "      <td>Less than 30 minutes</td>\n",
       "      <td>Never</td>\n",
       "      <td>None</td>\n",
       "      <td>2000000.0</td>\n",
       "    </tr>\n",
       "    <tr>\n",
       "      <th>101113</th>\n",
       "      <td>Yes</td>\n",
       "      <td>No</td>\n",
       "      <td>United States</td>\n",
       "      <td>No</td>\n",
       "      <td>Employed full-time</td>\n",
       "      <td>Master’s degree (MA, MS, M.Eng., MBA, etc.)</td>\n",
       "      <td>Another engineering discipline (ex. civil, ele...</td>\n",
       "      <td>None</td>\n",
       "      <td>QA or test developer</td>\n",
       "      <td>30 or more years</td>\n",
       "      <td>...</td>\n",
       "      <td>No</td>\n",
       "      <td>White or of European descent</td>\n",
       "      <td>Other doctoral degree (Ph.D, Ed.D., etc.)</td>\n",
       "      <td>Male</td>\n",
       "      <td>Between 5:00 - 6:00 AM</td>\n",
       "      <td>9 - 12 hours</td>\n",
       "      <td>1 - 2 hours</td>\n",
       "      <td>Never</td>\n",
       "      <td>Standing desk;Fatigue-relieving floor mat</td>\n",
       "      <td>156748.0</td>\n",
       "    </tr>\n",
       "  </tbody>\n",
       "</table>\n",
       "<p>10638 rows × 27 columns</p>\n",
       "</div>"
      ],
      "text/plain": [
       "           Hobby OpenSource        Country Student          Employment  \\\n",
       "Respondent                                                               \n",
       "9            Yes        Yes  United States      No  Employed full-time   \n",
       "11           Yes        Yes  United States      No  Employed full-time   \n",
       "38           Yes         No  United States      No  Employed full-time   \n",
       "44            No         No  United States      No  Employed full-time   \n",
       "51           Yes         No  United States      No  Employed full-time   \n",
       "...          ...        ...            ...     ...                 ...   \n",
       "100409        No         No  United States      No  Employed full-time   \n",
       "100685       Yes        Yes  United States      No  Employed full-time   \n",
       "100770       Yes         No  United States      No  Employed full-time   \n",
       "100862       Yes         No  United States      No  Employed full-time   \n",
       "101113       Yes         No  United States      No  Employed full-time   \n",
       "\n",
       "                                              FormalEducation  \\\n",
       "Respondent                                                      \n",
       "9           Some college/university study without earning ...   \n",
       "11          Some college/university study without earning ...   \n",
       "38          Some college/university study without earning ...   \n",
       "44                   Bachelor’s degree (BA, BS, B.Eng., etc.)   \n",
       "51                   Bachelor’s degree (BA, BS, B.Eng., etc.)   \n",
       "...                                                       ...   \n",
       "100409               Bachelor’s degree (BA, BS, B.Eng., etc.)   \n",
       "100685            Master’s degree (MA, MS, M.Eng., MBA, etc.)   \n",
       "100770                                       Associate degree   \n",
       "100862               Bachelor’s degree (BA, BS, B.Eng., etc.)   \n",
       "101113            Master’s degree (MA, MS, M.Eng., MBA, etc.)   \n",
       "\n",
       "                                               UndergradMajor  \\\n",
       "Respondent                                                      \n",
       "9           Computer science, computer engineering, or sof...   \n",
       "11          Fine arts or performing arts (ex. graphic desi...   \n",
       "38                                                       None   \n",
       "44          A social science (ex. anthropology, psychology...   \n",
       "51                              Web development or web design   \n",
       "...                                                       ...   \n",
       "100409      Computer science, computer engineering, or sof...   \n",
       "100685      Computer science, computer engineering, or sof...   \n",
       "100770      Fine arts or performing arts (ex. graphic desi...   \n",
       "100862      Computer science, computer engineering, or sof...   \n",
       "101113      Another engineering discipline (ex. civil, ele...   \n",
       "\n",
       "                         CompanySize  \\\n",
       "Respondent                             \n",
       "9           10,000 or more employees   \n",
       "11              100 to 499 employees   \n",
       "38                10 to 19 employees   \n",
       "44              100 to 499 employees   \n",
       "51              500 to 999 employees   \n",
       "...                              ...   \n",
       "100409                          None   \n",
       "100685                          None   \n",
       "100770                          None   \n",
       "100862                          None   \n",
       "101113                          None   \n",
       "\n",
       "                                                      DevType  \\\n",
       "Respondent                                                      \n",
       "9           Back-end developer;Front-end developer;Full-st...   \n",
       "11          Back-end developer;C-suite executive (CEO, CTO...   \n",
       "38          Back-end developer;Database administrator;DevO...   \n",
       "44                    Back-end developer;Full-stack developer   \n",
       "51          Back-end developer;Designer;Front-end develope...   \n",
       "...                                                       ...   \n",
       "100409                Back-end developer;QA or test developer   \n",
       "100685      Back-end developer;Front-end developer;Full-st...   \n",
       "100770      Back-end developer;Designer;Front-end develope...   \n",
       "100862                                   Full-stack developer   \n",
       "101113                                   QA or test developer   \n",
       "\n",
       "                 YearsCoding  ... MilitaryUS  \\\n",
       "Respondent                    ...              \n",
       "9                 9-11 years  ...         No   \n",
       "11          30 or more years  ...         No   \n",
       "38               18-20 years  ...         No   \n",
       "44                 3-5 years  ...         No   \n",
       "51                 6-8 years  ...         No   \n",
       "...                      ...  ...        ...   \n",
       "100409             6-8 years  ...         No   \n",
       "100685           15-17 years  ...         No   \n",
       "100770             3-5 years  ...         No   \n",
       "100862             3-5 years  ...         No   \n",
       "101113      30 or more years  ...         No   \n",
       "\n",
       "                                                RaceEthnicity  \\\n",
       "Respondent                                                      \n",
       "9                                White or of European descent   \n",
       "11                               White or of European descent   \n",
       "38                               White or of European descent   \n",
       "44                               White or of European descent   \n",
       "51                               White or of European descent   \n",
       "...                                                       ...   \n",
       "100409                           White or of European descent   \n",
       "100685                           White or of European descent   \n",
       "100770      Hispanic or Latino/Latina;White or of European...   \n",
       "100862                           White or of European descent   \n",
       "101113                           White or of European descent   \n",
       "\n",
       "                                             EducationParents  \\\n",
       "Respondent                                                      \n",
       "9                 Master’s degree (MA, MS, M.Eng., MBA, etc.)   \n",
       "11          Some college/university study without earning ...   \n",
       "38                  They never completed any formal education   \n",
       "44                Master’s degree (MA, MS, M.Eng., MBA, etc.)   \n",
       "51                                           Associate degree   \n",
       "...                                                       ...   \n",
       "100409            Master’s degree (MA, MS, M.Eng., MBA, etc.)   \n",
       "100685                                       Associate degree   \n",
       "100770               Bachelor’s degree (BA, BS, B.Eng., etc.)   \n",
       "100862            Master’s degree (MA, MS, M.Eng., MBA, etc.)   \n",
       "101113              Other doctoral degree (Ph.D, Ed.D., etc.)   \n",
       "\n",
       "                                                       Gender  \\\n",
       "Respondent                                                      \n",
       "9                                                        Male   \n",
       "11                                                       Male   \n",
       "38          Female;Male;Transgender;Non-binary, genderquee...   \n",
       "44                                                       Male   \n",
       "51                                                     Female   \n",
       "...                                                       ...   \n",
       "100409                                                   Male   \n",
       "100685                                                   Male   \n",
       "100770                                                 Female   \n",
       "100862                                                   Male   \n",
       "101113                                                   Male   \n",
       "\n",
       "                           WakeTime  HoursComputer          HoursOutside  \\\n",
       "Respondent                                                                 \n",
       "9           Between 9:01 - 10:00 AM  Over 12 hours  Less than 30 minutes   \n",
       "11           Between 8:01 - 9:00 AM   9 - 12 hours  Less than 30 minutes   \n",
       "38           Between 7:01 - 8:00 AM    5 - 8 hours  Less than 30 minutes   \n",
       "44           Between 7:01 - 8:00 AM    5 - 8 hours       30 - 59 minutes   \n",
       "51           Between 5:00 - 6:00 AM    5 - 8 hours       30 - 59 minutes   \n",
       "...                             ...            ...                   ...   \n",
       "100409       Between 5:00 - 6:00 AM   9 - 12 hours       30 - 59 minutes   \n",
       "100685       Between 6:01 - 7:00 AM    5 - 8 hours       30 - 59 minutes   \n",
       "100770       Between 6:01 - 7:00 AM   9 - 12 hours       30 - 59 minutes   \n",
       "100862       Between 7:01 - 8:00 AM   9 - 12 hours  Less than 30 minutes   \n",
       "101113       Between 5:00 - 6:00 AM   9 - 12 hours           1 - 2 hours   \n",
       "\n",
       "                            SkipMeals  \\\n",
       "Respondent                              \n",
       "9                1 - 2 times per week   \n",
       "11               1 - 2 times per week   \n",
       "38          Daily or almost every day   \n",
       "44               1 - 2 times per week   \n",
       "51                              Never   \n",
       "...                               ...   \n",
       "100409                          Never   \n",
       "100685                          Never   \n",
       "100770                          Never   \n",
       "100862                          Never   \n",
       "101113                          Never   \n",
       "\n",
       "                                     ErgonomicDevices convertedsalary  \n",
       "Respondent                                                             \n",
       "9                                                None        120000.0  \n",
       "11          Standing desk;Fatigue-relieving floor mat        250000.0  \n",
       "38                                               None         75000.0  \n",
       "44                                      Standing desk        900000.0  \n",
       "51          Standing desk;Fatigue-relieving floor mat         44000.0  \n",
       "...                                               ...             ...  \n",
       "100409                                           None         73000.0  \n",
       "100685      Standing desk;Fatigue-relieving floor mat         87000.0  \n",
       "100770                  Wrist/hand supports or braces         42000.0  \n",
       "100862                                           None       2000000.0  \n",
       "101113      Standing desk;Fatigue-relieving floor mat        156748.0  \n",
       "\n",
       "[10638 rows x 27 columns]"
      ]
     },
     "execution_count": 17,
     "metadata": {},
     "output_type": "execute_result"
    }
   ],
   "source": [
    "selected_response"
   ]
  },
  {
   "cell_type": "markdown",
   "metadata": {},
   "source": [
    "## Developers from around the country"
   ]
  },
  {
   "cell_type": "code",
   "execution_count": 18,
   "metadata": {},
   "outputs": [],
   "source": [
    "# DEVELOPERS FROM AROUND THE COUNTRY\n",
    "country_responses = set(selected_response[\"Country\"])\n",
    "total_appearance_of_each_country = Counter(selected_response[\"Country\"])\n",
    "\n",
    "# print(len(country_responses))\n",
    "# print(total_appearance_of_each_country)\n",
    "# Counter({'United States': 20309, 'India': 13721, 'Germany': 6459, 'United Kingdom': 6221, 'Canada': 3393, 'Russian Federation': 2869, 'France': 2572, 'Brazil': 2505, 'Poland': 2122, 'Australia': 2018, 'Netherlands': 1841, 'Spain': 1769, 'Italy': 1535, 'Ukraine': 1279, 'Sweden': 1164, 'Pakistan': 1050, 'China': 1037, 'Switzerland': 1010, 'Turkey': 1004, 'Israel': 1003, 'Iran, Islamic Republic of...': 921, 'Romania': 793, 'Austria': 788, 'Czech Republic': 784, 'Belgium': 743, 'Mexico': 736, 'Bangladesh': 697, 'Denmark': 653, 'South Africa': 637, 'Indonesia': 630, 'Argentina': 611, 'Norway': 565, 'New Zealand': 557, 'Ireland': 554, 'Portugal': 528, 'Finland': 521, 'Philippines': 520, 'Greece': 516, 'Hungary': 470, 'Sri Lanka': 454, 'Bulgaria': 425, 'Egypt': 419, None: 412, 'Nigeria': 399, 'Singapore': 376, 'Malaysia': 363, 'Japan': 361, 'Serbia': 358, 'Colombia': 339, 'Belarus': 339, 'Viet Nam': 331, 'Nepal': 295, 'Lithuania': 257, 'Croatia': 241, 'Chile': 238, 'Slovakia': 238, 'Slovenia': 238, 'Hong Kong (S.A.R.)': 219, 'Thailand': 213, 'Morocco': 213, 'Taiwan': 207, 'Kenya': 194, 'United Arab Emirates': 193, 'Estonia': 189, 'South Korea': 169, 'Tunisia': 163, 'Latvia': 145, 'Algeria': 130, 'Saudi Arabia': 130, 'Peru': 128, 'Bosnia and Herzegovina': 125, 'Venezuela, Bolivarian Republic of...': 123, 'Armenia': 117, 'Dominican Republic': 115, 'Albania': 109, 'Lebanon': 107, 'Kazakhstan': 107, 'Uruguay': 102, 'Costa Rica': 98, 'Other Country (Not Listed Above)': 84, 'Jordan': 83, 'Azerbaijan': 78, 'Ghana': 76, 'Republic of Moldova': 76, 'Georgia': 75, 'Uganda': 67, 'Malta': 66, 'Cuba': 65, 'Ecuador': 65, 'Afghanistan': 64, 'Republic of Korea': 62, 'Cambodia': 60, 'Ethiopia': 60, 'Luxembourg': 59, 'Uzbekistan': 56, 'Syrian Arab Republic': 56, 'Myanmar': 55, 'The former Yugoslav Republic of Macedonia': 54, 'Guatemala': 50, 'Paraguay': 49, 'United Republic of Tanzania': 49, 'Cyprus': 49, 'El Salvador': 46, 'Iceland': 45, 'Bolivia': 44, 'Iraq': 42, 'Zimbabwe': 39, 'Mauritius': 35, 'Cameroon': 34, 'Panama': 32, 'Nicaragua': 31, 'Honduras': 25, 'Sudan': 25, 'Qatar': 23, 'Kuwait': 23, 'Kyrgyzstan': 22, 'Mozambique': 21, 'Mongolia': 21, 'Oman': 20, 'Jamaica': 20, 'Trinidad and Tobago': 20, 'Madagascar': 19, 'Rwanda': 18, 'Bahrain': 16, 'Montenegro': 15, 'Andorra': 15, 'Libyan Arab Jamahiriya': 14, 'Yemen': 13, 'Senegal': 13, 'Angola': 11, 'Somalia': 10, 'Maldives': 10, 'Benin': 10, 'Antigua and Barbuda': 9, 'Malawi': 9, 'Zambia': 9, 'Fiji': 8, 'Haiti': 8, 'Democratic Republic of the Congo': 7, \"Côte d'Ivoire\": 7, 'Bhutan': 6, 'Turkmenistan': 6, 'Namibia': 6, 'Bahamas': 6, 'Congo, Republic of the...': 6, 'Liechtenstein': 5, 'Gabon': 5, 'Gambia': 5, 'Togo': 5, 'Burkina Faso': 5, 'Botswana': 4, 'Barbados': 4, 'Tajikistan': 4, 'Monaco': 4, 'North Korea': 4, 'Swaziland': 3, 'Guinea': 3, 'Mauritania': 3, 'Liberia': 3, 'Cape Verde': 3, 'Micronesia, Federated States of...': 2, 'Lesotho': 2, 'Marshall Islands': 2, 'Central African Republic': 2, 'Palau': 2, 'Suriname': 2, 'Dominica': 2, 'Niger': 2, 'Guyana': 2, \"Democratic People's Republic of Korea\": 2, 'San Marino': 1, 'Burundi': 1, 'Sierra Leone': 1, 'Grenada': 1, 'Belize': 1, 'Timor-Leste': 1, 'Solomon Islands': 1, 'Saint Lucia': 1, 'Nauru': 1, 'Mali': 1, 'Brunei Darussalam': 1, 'Eritrea': 1, 'Djibouti': 1, 'Guinea-Bissau': 1})"
   ]
  },
  {
   "cell_type": "code",
   "execution_count": 19,
   "metadata": {},
   "outputs": [],
   "source": [
    "\n",
    "# # Calculate the Mean\n",
    "# total_num = 0\n",
    "# for items in total_appearance_of_each_country.items():\n",
    "#     total_num += items[1]\n",
    "# print(total_num / (len(total_appearance_of_each_country.items())))\n",
    " "
   ]
  },
  {
   "cell_type": "code",
   "execution_count": 20,
   "metadata": {},
   "outputs": [
    {
     "name": "stdout",
     "output_type": "stream",
     "text": [
      "United States    10638\n",
      "Name: Country, dtype: int64\n"
     ]
    }
   ],
   "source": [
    "selected_10_countries = selected_response[\"Country\"].dropna().value_counts().head(20)   \n",
    "print(selected_10_countries)"
   ]
  },
  {
   "cell_type": "code",
   "execution_count": 21,
   "metadata": {},
   "outputs": [],
   "source": [
    "country_label = []\n",
    "country_count = []\n",
    "for i in selected_10_countries:\n",
    "    country_label.append(selected_10_countries[selected_10_countries == i ].index[0])\n",
    "    country_count.append(i)"
   ]
  },
  {
   "cell_type": "code",
   "execution_count": 22,
   "metadata": {},
   "outputs": [
    {
     "data": {
      "image/png": "[encoded data removed]",
      "text/plain": [
       "<Figure size 1800x756 with 1 Axes>"
      ]
     },
     "metadata": {
      "needs_background": "light"
     },
     "output_type": "display_data"
    }
   ],
   "source": [
    "plt.bar(country_label, country_count, align='center', alpha=0.5)\n",
    "plt.xticks(country_label)\n",
    "plt.ylabel('Respondent Count')\n",
    "plt.title('Main stackoverflow survey respondents')\n",
    "\n",
    "plt.savefig(\"./Figure/CountryRespondents.png\")\n",
    "fig = plt.gcf()\n",
    "fig.set_size_inches(25, 10.5)\n",
    "plt.show()"
   ]
  },
  {
   "cell_type": "code",
   "execution_count": 23,
   "metadata": {},
   "outputs": [
    {
     "data": {
      "text/plain": [
       "['United States']"
      ]
     },
     "execution_count": 23,
     "metadata": {},
     "output_type": "execute_result"
    }
   ],
   "source": [
    "country_label"
   ]
  },
  {
   "cell_type": "markdown",
   "metadata": {},
   "source": [
    "### Out of the 98,855 respondents, there were developers from 184 countries involved!\n",
    "Out of the 184 countries the top contributing countries are\n",
    "['United States',\n",
    " 'India',\n",
    " 'Germany',\n",
    " 'United Kingdom',\n",
    " 'Canada',\n",
    " 'Russian Federation',\n",
    " 'France',\n",
    " 'Brazil',\n",
    " 'Poland',\n",
    " 'Australia',\n",
    " 'Netherlands',\n",
    " 'Spain',\n",
    " 'Italy',\n",
    " 'Ukraine',\n",
    " 'Sweden',\n",
    " 'Pakistan',\n",
    " 'China',\n",
    " 'Switzerland',\n",
    " 'Turkey',\n",
    " 'Israel']"
   ]
  },
  {
   "cell_type": "markdown",
   "metadata": {},
   "source": [
    "---\n",
    "## Now we check out the gender ratio"
   ]
  },
  {
   "cell_type": "code",
   "execution_count": 24,
   "metadata": {},
   "outputs": [
    {
     "name": "stdout",
     "output_type": "stream",
     "text": [
      "{'Transgender', 'Male', 'Non-binary, genderqueer, or gender non-conforming', 'Female'}\n"
     ]
    }
   ],
   "source": [
    "gender_responses = selected_response[\"Gender\"]\n",
    "# print(gender_responses)\n",
    "total_gender_responses = []\n",
    "for i in gender_responses: \n",
    "    if i != None:\n",
    "        i = i.split(\";\") \n",
    "        if type(i) == list:\n",
    "            for q in i :\n",
    "                total_gender_responses.append(q)\n",
    "        else:\n",
    "            total_gender_responses.append(i)\n",
    "        \n",
    "        \n",
    "set_gender_response = set(total_gender_responses)\n",
    "print(set_gender_response)\n",
    "# print(json.dumps(gender_set_responses , indent = 4))\n",
    "# total_appearance_of_each_country = Counter(selected_response[\"Country\"])"
   ]
  },
  {
   "cell_type": "code",
   "execution_count": 25,
   "metadata": {},
   "outputs": [],
   "source": [
    "gender_dict = {}\n",
    "gender_dict[\"Male\"] = 0\n",
    "gender_dict[\"Female\"] = 0 \n",
    "gender_dict[\"Others\"] = 0\n",
    "gender_dict[\"Undisclosed\"] = 0\n",
    "for i in selected_response[\"Gender\"]:\n",
    "#     print(i) \n",
    "    if i is None: \n",
    "        gender_dict[\"Undisclosed\"] +=1 \n",
    "    elif \"Male\" in i:\n",
    "        gender_dict[\"Male\"] += 1\n",
    "    elif \"Female\" in i :\n",
    "        gender_dict[\"Female\"] +=1 \n",
    "    else:\n",
    "        gender_dict[\"Others\"] +=1 \n",
    "    "
   ]
  },
  {
   "cell_type": "code",
   "execution_count": 26,
   "metadata": {},
   "outputs": [],
   "source": [
    "gender_count = []\n",
    "gender_count.append(gender_dict[\"Male\"])\n",
    "gender_count.append(gender_dict[\"Female\"])\n",
    "gender_count.append(gender_dict[\"Undisclosed\"])\n",
    "gender_count.append(gender_dict[\"Others\"])\n",
    "gender_label = \"Male\" , \"Female\" , \"Undisclosed\" , \"Others\""
   ]
  },
  {
   "cell_type": "code",
   "execution_count": 27,
   "metadata": {},
   "outputs": [
    {
     "data": {
      "image/png": "[encoded data removed]",
      "text/plain": [
       "<Figure size 1332x756 with 1 Axes>"
      ]
     },
     "metadata": {},
     "output_type": "display_data"
    }
   ],
   "source": [
    "# GRAPHING GENDER\n",
    "figureObject, axesObject = plt.subplots() \n",
    "\n",
    "plt.pie(gender_count,\n",
    "        labels=gender_label, \n",
    "        autopct='%1.2f', \n",
    "        startangle=90) \n",
    "\n",
    "plt.axis('equal')\n",
    "\n",
    "fig = plt.gcf()\n",
    "fig.set_size_inches(18.5, 10.5)\n",
    "\n",
    "plt.savefig(\"./Figure/GenderPlot.png\")\n",
    "\n",
    "plt.show()"
   ]
  },
  {
   "cell_type": "code",
   "execution_count": 28,
   "metadata": {},
   "outputs": [
    {
     "ename": "TypeError",
     "evalue": "'<' not supported between instances of 'str' and 'int'",
     "output_type": "error",
     "traceback": [
      "\u001b[0;31m---------------------------------------------------------------------------\u001b[0m",
      "\u001b[0;31mTypeError\u001b[0m                                 Traceback (most recent call last)",
      "\u001b[0;32m<ipython-input-28-1204d09389f6>\u001b[0m in \u001b[0;36m<module>\u001b[0;34m\u001b[0m\n\u001b[1;32m      1\u001b[0m \u001b[0mplt\u001b[0m\u001b[0;34m.\u001b[0m\u001b[0mfigure\u001b[0m\u001b[0;34m(\u001b[0m\u001b[0mfigsize\u001b[0m\u001b[0;34m=\u001b[0m\u001b[0;34m(\u001b[0m\u001b[0;36m10\u001b[0m\u001b[0;34m,\u001b[0m\u001b[0;36m6\u001b[0m\u001b[0;34m)\u001b[0m\u001b[0;34m)\u001b[0m\u001b[0;34m\u001b[0m\u001b[0;34m\u001b[0m\u001b[0m\n\u001b[1;32m      2\u001b[0m \u001b[0mtemp\u001b[0m \u001b[0;34m=\u001b[0m \u001b[0mselected_response\u001b[0m\u001b[0;34m[\u001b[0m\u001b[0mselected_response\u001b[0m\u001b[0;34m.\u001b[0m\u001b[0mDevType\u001b[0m \u001b[0;34m==\u001b[0m \u001b[0;34m'Data scientist or machine learning specialist'\u001b[0m\u001b[0;34m]\u001b[0m\u001b[0;34m\u001b[0m\u001b[0;34m\u001b[0m\u001b[0m\n\u001b[0;32m----> 3\u001b[0;31m \u001b[0mtemp\u001b[0m \u001b[0;34m=\u001b[0m \u001b[0mtemp\u001b[0m\u001b[0;34m[\u001b[0m\u001b[0mtemp\u001b[0m\u001b[0;34m.\u001b[0m\u001b[0mconvertedsalary\u001b[0m \u001b[0;34m<\u001b[0m \u001b[0;36m250000\u001b[0m\u001b[0;34m]\u001b[0m\u001b[0;34m\u001b[0m\u001b[0;34m\u001b[0m\u001b[0m\n\u001b[0m\u001b[1;32m      4\u001b[0m ax = sns.boxplot(x=\"Gender\", \n\u001b[1;32m      5\u001b[0m                  \u001b[0my\u001b[0m\u001b[0;34m=\u001b[0m\u001b[0;34m\"convertedsalary\"\u001b[0m\u001b[0;34m,\u001b[0m\u001b[0;34m\u001b[0m\u001b[0;34m\u001b[0m\u001b[0m\n",
      "\u001b[0;32m~/anaconda3/lib/python3.7/site-packages/pandas/core/ops/__init__.py\u001b[0m in \u001b[0;36mwrapper\u001b[0;34m(self, other, axis)\u001b[0m\n\u001b[1;32m   1227\u001b[0m \u001b[0;34m\u001b[0m\u001b[0m\n\u001b[1;32m   1228\u001b[0m             \u001b[0;32mwith\u001b[0m \u001b[0mnp\u001b[0m\u001b[0;34m.\u001b[0m\u001b[0merrstate\u001b[0m\u001b[0;34m(\u001b[0m\u001b[0mall\u001b[0m\u001b[0;34m=\u001b[0m\u001b[0;34m\"ignore\"\u001b[0m\u001b[0;34m)\u001b[0m\u001b[0;34m:\u001b[0m\u001b[0;34m\u001b[0m\u001b[0;34m\u001b[0m\u001b[0m\n\u001b[0;32m-> 1229\u001b[0;31m                 \u001b[0mres\u001b[0m \u001b[0;34m=\u001b[0m \u001b[0mna_op\u001b[0m\u001b[0;34m(\u001b[0m\u001b[0mvalues\u001b[0m\u001b[0;34m,\u001b[0m \u001b[0mother\u001b[0m\u001b[0;34m)\u001b[0m\u001b[0;34m\u001b[0m\u001b[0;34m\u001b[0m\u001b[0m\n\u001b[0m\u001b[1;32m   1230\u001b[0m             \u001b[0;32mif\u001b[0m \u001b[0mis_scalar\u001b[0m\u001b[0;34m(\u001b[0m\u001b[0mres\u001b[0m\u001b[0;34m)\u001b[0m\u001b[0;34m:\u001b[0m\u001b[0;34m\u001b[0m\u001b[0;34m\u001b[0m\u001b[0m\n\u001b[1;32m   1231\u001b[0m                 raise TypeError(\n",
      "\u001b[0;32m~/anaconda3/lib/python3.7/site-packages/pandas/core/ops/__init__.py\u001b[0m in \u001b[0;36mna_op\u001b[0;34m(x, y)\u001b[0m\n\u001b[1;32m   1089\u001b[0m \u001b[0;34m\u001b[0m\u001b[0m\n\u001b[1;32m   1090\u001b[0m         \u001b[0;32mif\u001b[0m \u001b[0mis_object_dtype\u001b[0m\u001b[0;34m(\u001b[0m\u001b[0mx\u001b[0m\u001b[0;34m.\u001b[0m\u001b[0mdtype\u001b[0m\u001b[0;34m)\u001b[0m\u001b[0;34m:\u001b[0m\u001b[0;34m\u001b[0m\u001b[0;34m\u001b[0m\u001b[0m\n\u001b[0;32m-> 1091\u001b[0;31m             \u001b[0mresult\u001b[0m \u001b[0;34m=\u001b[0m \u001b[0m_comp_method_OBJECT_ARRAY\u001b[0m\u001b[0;34m(\u001b[0m\u001b[0mop\u001b[0m\u001b[0;34m,\u001b[0m \u001b[0mx\u001b[0m\u001b[0;34m,\u001b[0m \u001b[0my\u001b[0m\u001b[0;34m)\u001b[0m\u001b[0;34m\u001b[0m\u001b[0;34m\u001b[0m\u001b[0m\n\u001b[0m\u001b[1;32m   1092\u001b[0m \u001b[0;34m\u001b[0m\u001b[0m\n\u001b[1;32m   1093\u001b[0m         \u001b[0;32melif\u001b[0m \u001b[0mis_datetimelike_v_numeric\u001b[0m\u001b[0;34m(\u001b[0m\u001b[0mx\u001b[0m\u001b[0;34m,\u001b[0m \u001b[0my\u001b[0m\u001b[0;34m)\u001b[0m\u001b[0;34m:\u001b[0m\u001b[0;34m\u001b[0m\u001b[0;34m\u001b[0m\u001b[0m\n",
      "\u001b[0;32m~/anaconda3/lib/python3.7/site-packages/pandas/core/ops/__init__.py\u001b[0m in \u001b[0;36m_comp_method_OBJECT_ARRAY\u001b[0;34m(op, x, y)\u001b[0m\n\u001b[1;32m   1067\u001b[0m         \u001b[0mresult\u001b[0m \u001b[0;34m=\u001b[0m \u001b[0mlibops\u001b[0m\u001b[0;34m.\u001b[0m\u001b[0mvec_compare\u001b[0m\u001b[0;34m(\u001b[0m\u001b[0mx\u001b[0m\u001b[0;34m,\u001b[0m \u001b[0my\u001b[0m\u001b[0;34m,\u001b[0m \u001b[0mop\u001b[0m\u001b[0;34m)\u001b[0m\u001b[0;34m\u001b[0m\u001b[0;34m\u001b[0m\u001b[0m\n\u001b[1;32m   1068\u001b[0m     \u001b[0;32melse\u001b[0m\u001b[0;34m:\u001b[0m\u001b[0;34m\u001b[0m\u001b[0;34m\u001b[0m\u001b[0m\n\u001b[0;32m-> 1069\u001b[0;31m         \u001b[0mresult\u001b[0m \u001b[0;34m=\u001b[0m \u001b[0mlibops\u001b[0m\u001b[0;34m.\u001b[0m\u001b[0mscalar_compare\u001b[0m\u001b[0;34m(\u001b[0m\u001b[0mx\u001b[0m\u001b[0;34m,\u001b[0m \u001b[0my\u001b[0m\u001b[0;34m,\u001b[0m \u001b[0mop\u001b[0m\u001b[0;34m)\u001b[0m\u001b[0;34m\u001b[0m\u001b[0;34m\u001b[0m\u001b[0m\n\u001b[0m\u001b[1;32m   1070\u001b[0m     \u001b[0;32mreturn\u001b[0m \u001b[0mresult\u001b[0m\u001b[0;34m\u001b[0m\u001b[0;34m\u001b[0m\u001b[0m\n\u001b[1;32m   1071\u001b[0m \u001b[0;34m\u001b[0m\u001b[0m\n",
      "\u001b[0;32mpandas/_libs/ops.pyx\u001b[0m in \u001b[0;36mpandas._libs.ops.scalar_compare\u001b[0;34m()\u001b[0m\n",
      "\u001b[0;31mTypeError\u001b[0m: '<' not supported between instances of 'str' and 'int'"
     ]
    },
    {
     "data": {
      "text/plain": [
       "<Figure size 720x432 with 0 Axes>"
      ]
     },
     "metadata": {},
     "output_type": "display_data"
    }
   ],
   "source": [
    "plt.figure(figsize=(10,6))\n",
    "temp = selected_response[selected_response.DevType == 'Data scientist or machine learning specialist']\n",
    "temp = temp[temp.convertedsalary < 250000]\n",
    "ax = sns.boxplot(x=\"Gender\", \n",
    "                 y=\"convertedsalary\", \n",
    "                 hue=\"Gender\", \n",
    "                 data=temp)"
   ]
  },
  {
   "cell_type": "markdown",
   "metadata": {},
   "source": [
    "---\n",
    "## Now we visualize the age groups"
   ]
  },
  {
   "cell_type": "code",
   "execution_count": null,
   "metadata": {},
   "outputs": [],
   "source": [
    "age_responses = selected_response[\"Age\"]"
   ]
  },
  {
   "cell_type": "code",
   "execution_count": null,
   "metadata": {},
   "outputs": [],
   "source": [
    "age_responses.unique()"
   ]
  },
  {
   "cell_type": "code",
   "execution_count": null,
   "metadata": {},
   "outputs": [],
   "source": [
    "age_responses = selected_response.groupby(\"Age\").nunique()"
   ]
  },
  {
   "cell_type": "code",
   "execution_count": null,
   "metadata": {},
   "outputs": [],
   "source": [
    "age_responses = selected_response.Age.value_counts()"
   ]
  },
  {
   "cell_type": "code",
   "execution_count": null,
   "metadata": {},
   "outputs": [],
   "source": [
    "age_label = []\n",
    "age_value = []\n",
    "for i in age_responses:\n",
    "#     print*()\n",
    "    age_label.append(age_responses[age_responses == i].index[0])\n",
    "    age_value.append(i)"
   ]
  },
  {
   "cell_type": "code",
   "execution_count": null,
   "metadata": {},
   "outputs": [],
   "source": [
    "fig1, ax1 = plt.subplots()\n",
    "ax1.pie(age_value, labels=age_label, autopct='%1.1f%%', shadow=True)\n",
    "ax1.axis('equal')\n",
    "fig = plt.gcf()\n",
    "fig.set_size_inches(18.5, 10.5)\n",
    "plt.savefig(\"./Figure/age_pie\")\n",
    "plt.show()"
   ]
  },
  {
   "cell_type": "code",
   "execution_count": null,
   "metadata": {},
   "outputs": [],
   "source": [
    "plt.figure(figsize=(10,6))\n",
    "temp = selected_response[selected_response.DevType == 'Data scientist or machine learning specialist']\n",
    "temp = temp[temp.convertedsalary < 250000]\n",
    "ax = sns.boxplot(x=\"Age\", \n",
    "                 y=\"convertedsalary\", \n",
    "                 hue=\"Age\", \n",
    "                 data=temp)\n",
    "plt.savefig(\"./Figure/boxplot age group.png\")"
   ]
  },
  {
   "cell_type": "markdown",
   "metadata": {},
   "source": [
    "---\n",
    "## Visualize contribution to open source"
   ]
  },
  {
   "cell_type": "code",
   "execution_count": null,
   "metadata": {},
   "outputs": [],
   "source": [
    "open_source_response = selected_response[\"OpenSource\"]"
   ]
  },
  {
   "cell_type": "code",
   "execution_count": null,
   "metadata": {},
   "outputs": [],
   "source": [
    "selected_response.convertedsalary = pd.to_numeric(selected_response.convertedsalary)"
   ]
  },
  {
   "cell_type": "code",
   "execution_count": null,
   "metadata": {},
   "outputs": [],
   "source": [
    "selected_response.info()"
   ]
  },
  {
   "cell_type": "code",
   "execution_count": null,
   "metadata": {},
   "outputs": [],
   "source": [
    "temp = selected_response[selected_response.DevType == 'Data scientist or machine learning specialist']\n",
    "temp = temp[temp.convertedsalary < 250000]\n",
    "ax = sns.boxplot(x=\"OpenSource\", \n",
    "                 y=\"convertedsalary\", \n",
    "                 hue=\"OpenSource\", \n",
    "                 data=temp)"
   ]
  },
  {
   "cell_type": "code",
   "execution_count": null,
   "metadata": {},
   "outputs": [],
   "source": [
    "open_source_label = []\n",
    "open_source_count_total = []\n",
    "for i in open_source_count_unique: \n",
    "    open_source_label.append(open_source_count_unique[open_source_count_unique == i ].index[0])\n",
    "    open_source_count_total.append(i)"
   ]
  },
  {
   "cell_type": "code",
   "execution_count": null,
   "metadata": {},
   "outputs": [],
   "source": [
    "fig1, ax1 = plt.subplots()\n",
    "ax1.pie(open_source_count_total, labels=open_source_label, autopct='%1.1f%%', shadow=True,\n",
    "        startangle=90)\n",
    "ax1.axis('equal')\n",
    "fig = plt.gcf()\n",
    "fig.set_size_inches(18.5, 10.5)\n",
    "plt.savefig(\"./Figure/open_source\")\n",
    "plt.show()"
   ]
  },
  {
   "cell_type": "code",
   "execution_count": null,
   "metadata": {},
   "outputs": [],
   "source": [
    "open_source_response = selected_response[\"OpenSource\" , \"Salary\"]"
   ]
  },
  {
   "cell_type": "code",
   "execution_count": null,
   "metadata": {},
   "outputs": [],
   "source": [
    "open_source_count_unique = selected_response.OpenSource.value_counts()"
   ]
  },
  {
   "cell_type": "markdown",
   "metadata": {},
   "source": [
    "---\n",
    "## Now we try to look at the types of job we get for each age group"
   ]
  },
  {
   "cell_type": "code",
   "execution_count": null,
   "metadata": {},
   "outputs": [],
   "source": [
    "# jobs_to_year_dev = selected_response[[\"DevType\" , \"YearsCoding\"]]"
   ]
  },
  {
   "cell_type": "code",
   "execution_count": null,
   "metadata": {},
   "outputs": [],
   "source": [
    "# jobs_to_year_dev"
   ]
  },
  {
   "cell_type": "code",
   "execution_count": null,
   "metadata": {},
   "outputs": [],
   "source": [
    "# jobs_to_year_dev.YearsCoding.unique()"
   ]
  },
  {
   "cell_type": "code",
   "execution_count": null,
   "metadata": {},
   "outputs": [],
   "source": [
    "# jobs_to_years_series = jobs_to_year_dev.YearsCoding.value_counts()"
   ]
  },
  {
   "cell_type": "code",
   "execution_count": null,
   "metadata": {},
   "outputs": [],
   "source": [
    "# jobs_to_years_dict = {} \n",
    "# for i in jobs_to_years_series: \n",
    "#     jobs_to_years_dict[str(jobs_to_years_series[jobs_to_years_series == i ].index[0])] = i \n",
    "# jobs_to_years_dict_keys = jobs_to_years_dict.keys()\n",
    "# jobs_to_years_dict_value = jobs_to_years_dict.values()"
   ]
  },
  {
   "cell_type": "code",
   "execution_count": null,
   "metadata": {},
   "outputs": [],
   "source": [
    "# group_jobs_to_year_dev = jobs_to_year_dev.groupby(\"DevType\")"
   ]
  },
  {
   "cell_type": "code",
   "execution_count": null,
   "metadata": {},
   "outputs": [],
   "source": [
    "# group_jobs_to_year_dev.first()"
   ]
  },
  {
   "cell_type": "code",
   "execution_count": null,
   "metadata": {},
   "outputs": [],
   "source": [
    "# group_jobs_to_year_dev.get_group(\"Back-end developer\")"
   ]
  },
  {
   "cell_type": "markdown",
   "metadata": {},
   "source": [
    "Empty devtype responses 6757"
   ]
  },
  {
   "cell_type": "code",
   "execution_count": null,
   "metadata": {},
   "outputs": [],
   "source": [
    "def query_year_and_dev():\n",
    "    query_sql = \"SELECT YearsCoding, DevType from \" + main_table + \" WHERE DevType is not null\"\n",
    "    c = conn.cursor()\n",
    "    c.execute(query_sql)\n",
    "    conn.commit()\n",
    "    rows  = c.fetchall()\n",
    "    return rows\n"
   ]
  },
  {
   "cell_type": "code",
   "execution_count": null,
   "metadata": {},
   "outputs": [],
   "source": [
    "years_coding_and_dev_type = pd.DataFrame(query_year_and_dev(), columns = [\"YearsCoding\" , \"DevType\"])\n",
    "years_coding_and_dev_type"
   ]
  },
  {
   "cell_type": "code",
   "execution_count": null,
   "metadata": {},
   "outputs": [],
   "source": [
    "# Split options and find specific options\n",
    "def find_set_dev_type():\n",
    "    unique_list = []\n",
    "    null_list_dev_type = []\n",
    "    for i in years_coding_and_dev_type.DevType:\n",
    "        if i is not None:\n",
    "            split_list = i.split(\";\") \n",
    "            for i in split_list:\n",
    "                unique_list.append(i)\n",
    "        else :\n",
    "            null_list_dev_type.append(i) \n",
    "    return set(unique_list)\n",
    "    "
   ]
  },
  {
   "cell_type": "code",
   "execution_count": null,
   "metadata": {},
   "outputs": [],
   "source": [
    "find_set_dev_type()"
   ]
  },
  {
   "cell_type": "markdown",
   "metadata": {},
   "source": [
    "# DATA SCIENTIST\n",
    "{\n",
    " 'Data or business analyst',\n",
    " 'Data scientist or machine learning specialist',\n",
    " }"
   ]
  },
  {
   "cell_type": "markdown",
   "metadata": {},
   "source": [
    "# Software Developers\n",
    "{'Back-end developer',  \n",
    " 'Database administrator', \n",
    " 'Desktop or enterprise applications developer',\n",
    " 'DevOps specialist', \n",
    " 'Embedded applications or devices developer',\n",
    " 'Engineering manager',\n",
    " 'Front-end developer',\n",
    " 'Full-stack developer',\n",
    " 'Game or graphics developer', \n",
    " 'Mobile developer', \n",
    " 'QA or test developer', \n",
    " 'System administrator'}"
   ]
  },
  {
   "cell_type": "code",
   "execution_count": null,
   "metadata": {},
   "outputs": [],
   "source": [
    "data_science_position_titles = {\n",
    " 'Data or business analyst',\n",
    " 'Data scientist or machine learning specialist',\n",
    " } "
   ]
  },
  {
   "cell_type": "code",
   "execution_count": null,
   "metadata": {},
   "outputs": [],
   "source": [
    "def find_year_and_dev_by_DevType():\n",
    "    found_data_scientist = []\n",
    "    coding_years_set = []\n",
    "    for individual_position_block in years_coding_and_dev_type.values:\n",
    "        \n",
    "        this_man_is_a_data_scientist = False\n",
    "        if individual_position_block[1] is not None:\n",
    "            individual_position_block_list = individual_position_block[1].split(\";\")\n",
    "            for indi_positions in individual_position_block_list:\n",
    "                if indi_positions in data_science_position_titles:\n",
    "                    this_man_is_a_data_scientist = True\n",
    "        if this_man_is_a_data_scientist == True:\n",
    "            found_data_scientist.append(individual_position_block)\n",
    "            coding_years_set.append(individual_position_block[0])\n",
    "    coding_years_set = set(coding_years_set)\n",
    "    return found_data_scientist, coding_years_set\n",
    "\n",
    "\n",
    "found_years_devtype_ds , coding_years_set = find_year_and_dev_by_DevType() "
   ]
  },
  {
   "cell_type": "code",
   "execution_count": null,
   "metadata": {},
   "outputs": [],
   "source": [
    "def count_total_ds_in_age_group():\n",
    "    total_ds_in_age_group = {}\n",
    "    for i in range(0 , len(found_years_devtype_ds)): \n",
    "        try:\n",
    "            total_ds_in_age_group[found_years_devtype_ds[i][0]] += 1\n",
    "        except:\n",
    "            total_ds_in_age_group[found_years_devtype_ds[i][0]] = 1\n",
    "    return total_ds_in_age_group\n",
    "total_ds_in_age_group = count_total_ds_in_age_group()"
   ]
  },
  {
   "cell_type": "code",
   "execution_count": null,
   "metadata": {},
   "outputs": [],
   "source": [
    "# Sort in Age Order\n",
    "total_ds_in_age_group = { '0-2 years': 1071, '3-5 years': 2798,'6-8 years': 2482,'9-11 years': 1553, '12-14 years': 1071,  '15-17 years': 887,  '18-20 years': 785,'24-26 years': 334, '21-23 years': 425, '27-29 years': 174, '30 or more years': 721}"
   ]
  },
  {
   "cell_type": "code",
   "execution_count": null,
   "metadata": {},
   "outputs": [],
   "source": [
    "plt.bar(total_ds_in_age_group.keys(), total_ds_in_age_group.values(), align='center', alpha=0.5)\n",
    "plt.ylabel('Number of Data Scientist Respondents')\n",
    "plt.title('Data Scientist Age Groups')\n",
    "fig = plt.gcf()\n",
    "fig.set_size_inches(20, 10) \n",
    "\n",
    "plt.savefig(\"./Figure/Age_DataScientist.png\")\n",
    "plt.show()"
   ]
  },
  {
   "cell_type": "code",
   "execution_count": null,
   "metadata": {},
   "outputs": [],
   "source": [
    "plt.figure(figsize=(15,6))\n",
    "temp = selected_response[selected_response.DevType == 'Data scientist or machine learning specialist']\n",
    "temp = temp[temp.convertedsalary < 250000]\n",
    "ax = sns.boxplot(x=\"YearsCoding\", \n",
    "                 y=\"convertedsalary\", \n",
    "                 hue=\"YearsCoding\", \n",
    "                 data=temp)\n",
    "plt.savefig(\"./Figure/box plot years coding.png\")"
   ]
  },
  {
   "cell_type": "markdown",
   "metadata": {},
   "source": [
    "---\n",
    "## Formal Education\n"
   ]
  },
  {
   "cell_type": "code",
   "execution_count": null,
   "metadata": {},
   "outputs": [],
   "source": [
    "formal_education = selected_response[[\"FormalEducation\" , \"DevType\"]]"
   ]
  },
  {
   "cell_type": "code",
   "execution_count": null,
   "metadata": {},
   "outputs": [],
   "source": [
    "cleaned_formal_education = []\n",
    "for i in formal_education.values:\n",
    "#     print(i)\n",
    "#     break\n",
    "    \n",
    "    if i is not None and i[1] is not None and i[0] is not None: \n",
    "        #split multiple jobs positions\n",
    "        dev_type = i[1].split(\";\")\n",
    "        this_man_data_scientist = False\n",
    "        for jobs in dev_type:\n",
    "            if jobs in data_science_position_titles:\n",
    "                this_man_data_scientist = True\n",
    "        if this_man_data_scientist:\n",
    "            cleaned_formal_education.append(i[0])\n",
    "possible_education_credentials = set(cleaned_formal_education)"
   ]
  },
  {
   "cell_type": "code",
   "execution_count": null,
   "metadata": {},
   "outputs": [],
   "source": [
    "possible_education_credentials"
   ]
  },
  {
   "cell_type": "code",
   "execution_count": null,
   "metadata": {},
   "outputs": [],
   "source": [
    "total_degree_for_ds = {}\n",
    "for i in formal_education.values:\n",
    "    if i is not None and i[1] is not None and i[0] is not None:\n",
    "        try:\n",
    "            total_degree_for_ds[i[0]] +=1\n",
    "        except :\n",
    "            total_degree_for_ds[i[0]]= 1"
   ]
  },
  {
   "cell_type": "code",
   "execution_count": null,
   "metadata": {},
   "outputs": [],
   "source": [
    "total_degree_for_ds"
   ]
  },
  {
   "cell_type": "code",
   "execution_count": null,
   "metadata": {},
   "outputs": [],
   "source": [
    "print_total_degree_keys = []\n",
    "for i in total_degree_for_ds.keys():\n",
    "    i = i.split(\" \" , 2) \n",
    "    print_total_degree_keys.append(i[0] + \" \" + i [1])"
   ]
  },
  {
   "cell_type": "code",
   "execution_count": null,
   "metadata": {},
   "outputs": [],
   "source": [
    "plt.bar(print_total_degree_keys, list(total_degree_for_ds.values()), align='center', alpha=0.5)\n",
    "plt.ylabel('Number of Data Scientist Respondents')\n",
    "plt.title('Data Scientist Education Degree')\n",
    "fig = plt.gcf()\n",
    "fig.set_size_inches(20, 10) \n",
    "\n",
    "plt.savefig(\"./Figure/Degree Data Scientist.png\")\n",
    "plt.show()"
   ]
  },
  {
   "cell_type": "code",
   "execution_count": null,
   "metadata": {},
   "outputs": [],
   "source": [
    "plt.figure(figsize=(15,6))\n",
    "temp = selected_response[selected_response.DevType == 'Data scientist or machine learning specialist']\n",
    "temp = temp[temp.convertedsalary < 250000]\n",
    "ax = sns.boxplot(x=\"FormalEducation\", \n",
    "                 y=\"convertedsalary\", \n",
    "                 hue=\"FormalEducation\", \n",
    "                 data=temp)\n",
    "plt.xticks(rotation=10)\n",
    "plt.savefig(\"./Figure/formal educaiton box plt.png\")"
   ]
  },
  {
   "cell_type": "markdown",
   "metadata": {},
   "source": [
    "---\n",
    "## Language Worked with\n",
    "+ language desire next year\n",
    " "
   ]
  },
  {
   "cell_type": "code",
   "execution_count": null,
   "metadata": {},
   "outputs": [],
   "source": [
    "def query_languages_and_next_year():\n",
    "    query_sql = \"SELECT languageworkedwith, languagedesirenextyear from \" + main_table + \" WHERE languageworkedwith is not null OR languagedesirenextyear is not null AND country = 'United States' AND Student = 'No' AND employment = 'Employed full-time' AND convertedsalary is not null \"\n",
    "    c = conn.cursor()\n",
    "    c.execute(query_sql)\n",
    "    conn.commit()\n",
    "    rows  = c.fetchall()\n",
    "    return rows\n",
    "def query_languages_and_next_year_ds():\n",
    "    query_sql = \"SELECT languageworkedwith, languagedesirenextyear,devtype from \" + main_table + \" WHERE languageworkedwith is not null OR languagedesirenextyear is not null and devtype is not null AND country = 'United States' AND Student = 'No' AND employment = 'Employed full-time' AND convertedsalary is not null \"\n",
    "    c = conn.cursor()\n",
    "    c.execute(query_sql)\n",
    "    conn.commit()\n",
    "    rows  = c.fetchall()\n",
    "    return rows\n",
    "queried_language_and_next_year = pd.DataFrame(query_languages_and_next_year() , columns = [\"LanguageWorkedWith\" , \"LanguagesNextYear\"])\n",
    "queried_language_and_next_year_ds = pd.DataFrame(query_languages_and_next_year_ds() , columns = [\"LanguageWorkedWith\" , \"LanguagesNextYear\", \"DevType\"])\n"
   ]
  },
  {
   "cell_type": "code",
   "execution_count": null,
   "metadata": {},
   "outputs": [],
   "source": [
    "def find_languages_total_count():\n",
    "    languages_all_this = {}\n",
    "    languages_all_next = {}\n",
    "    for i in queried_language_and_next_year.values: \n",
    "        if i is not None and i[0] is not None and i[1] is not None: \n",
    "            current_list = i[0].split(\";\") \n",
    "            next_list = i[1].split(\";\")\n",
    "            for languages_current in current_list:\n",
    "                try:\n",
    "                    languages_all_this[languages_current] +=1\n",
    "                except:\n",
    "                    languages_all_this[languages_current] = 1\n",
    "            for languages_next in next_list:\n",
    "                try:\n",
    "                    languages_all_next[languages_next] +=1\n",
    "                except:\n",
    "                    languages_all_next[languages_next] = 1\n",
    "    return languages_all_this, languages_all_next\n",
    "languages_all_this , languages_all_next = find_languages_total_count()"
   ]
  },
  {
   "cell_type": "code",
   "execution_count": null,
   "metadata": {},
   "outputs": [],
   "source": [
    "def find_languages_total_count_ds():\n",
    "    languages_all_this = {}\n",
    "    languages_all_next = {}\n",
    "    for i in queried_language_and_next_year_ds.values: \n",
    "        if i is not None and i[0] is not None and i[1] is not None and i[2] is not None:\n",
    "            jobs_titles = i[2].split(\";\")  \n",
    "            \n",
    "            this_man_is_ds = False\n",
    "            # Check if job is data scientist\n",
    "            for job_indi in jobs_titles:\n",
    "                if job_indi in data_science_position_titles:\n",
    "                    this_man_is_ds = True\n",
    "            if this_man_is_ds :\n",
    "                current_list = i[0].split(\";\") \n",
    "                next_list = i[1].split(\";\")\n",
    "                for languages_current in current_list:\n",
    "                    try:\n",
    "                        languages_all_this[languages_current] +=1\n",
    "                    except:\n",
    "                        languages_all_this[languages_current] = 1\n",
    "                for languages_next in next_list:\n",
    "                    try:\n",
    "                        languages_all_next[languages_next] +=1\n",
    "                    except:\n",
    "                        languages_all_next[languages_next] = 1\n",
    "    return languages_all_this, languages_all_next\n",
    "languages_all_this_ds , languages_all_next_ds = find_languages_total_count_ds()"
   ]
  },
  {
   "cell_type": "code",
   "execution_count": null,
   "metadata": {},
   "outputs": [],
   "source": [
    "dict_languages_current_next = {\"Current\" : languages_all_this , \"Next Year\" : languages_all_next}\n",
    "languages_dataframe = pd.DataFrame(dict_languages_current_next)\n",
    "languages_plot = languages_dataframe.plot( kind= 'bar' , secondary_y= 'amount' , rot= 0 )\n",
    "fig = plt.gcf()\n",
    "fig.set_size_inches(60, 10) \n",
    "plt.savefig(\"./Figure/Languages_this_next.png\")\n",
    "plt.show()"
   ]
  },
  {
   "cell_type": "code",
   "execution_count": null,
   "metadata": {},
   "outputs": [],
   "source": [
    "dict_languages_current_next_ds = {\"Current\" : languages_all_this_ds , \"Next Year\" : languages_all_next_ds}\n",
    "languages_dataframe_ds = pd.DataFrame(dict_languages_current_next_ds)\n",
    "languages_plot_ds = languages_dataframe_ds.plot( kind= 'bar' , secondary_y= 'amount' , rot= 0 )\n",
    "fig = plt.gcf()\n",
    "fig.set_size_inches(60, 10) \n",
    "plt.savefig(\"./Figure/Languages_this_next_ds.png\")\n",
    "plt.show()"
   ]
  },
  {
   "cell_type": "code",
   "execution_count": null,
   "metadata": {},
   "outputs": [],
   "source": [
    "dict_languages_current_next_ds_merge = {\"Current\" : languages_all_this , \"Next Year\" : languages_all_next , \"CurrentDS\" : languages_all_this_ds , \"Next Year DS\" : languages_all_next_ds}\n",
    "languages_dataframe_ds_merge = pd.DataFrame(dict_languages_current_next_ds_merge)\n",
    "languages_plot_ds = languages_dataframe_ds_merge.plot( kind= 'bar' , secondary_y= 'amount' , rot= 0 )\n",
    "fig = plt.gcf()\n",
    "fig.set_size_inches(60, 10) \n",
    "plt.savefig(\"./Figure/Languages_this_next_ds_merge.png\")\n",
    "plt.show()"
   ]
  },
  {
   "cell_type": "markdown",
   "metadata": {},
   "source": [
    "---\n",
    "## Platform \n",
    "+ platform desire next year"
   ]
  },
  {
   "cell_type": "code",
   "execution_count": null,
   "metadata": {},
   "outputs": [],
   "source": [
    "def query_platforms_experience():\n",
    "    query_sql = \"SELECT platformworkedwith, platformdesirenextyear from \" + main_table + \" WHERE platformworkedwith is not null AND platformdesirenextyear is not null AND country = 'United States' AND Student = 'No' AND employment = 'Employed full-time' AND convertedsalary is not null \"\n",
    "    c = conn.cursor()\n",
    "    c.execute(query_sql)\n",
    "    conn.commit()\n",
    "    rows  = c.fetchall()\n",
    "    query_sql_ds = \"SELECT platformworkedwith, platformdesirenextyear, devtype from \" + main_table + \" WHERE platformworkedwith is not null AND platformdesirenextyear is not null AND devtype is not null AND country = 'United States' AND Student = 'No' AND employment = 'Employed full-time' AND convertedsalary is not null \"\n",
    "    c = conn.cursor()\n",
    "    c.execute(query_sql_ds)\n",
    "    rows_ds  = c.fetchall()\n",
    "    \n",
    "    return rows, rows_ds\n",
    "queried_platform, queried_platform_ds = query_platforms_experience()\n",
    "queried_platforms_this_next = pd.DataFrame(queried_platform , columns = [\"PlatformsCurrent\" , \"PlatformsNext\"])\n",
    "queried_platforms_this_next_ds = pd.DataFrame(queried_platform_ds , columns = [\"PlatformsCurrent\" , \"PlatformsNext\", \"DevType\"])"
   ]
  },
  {
   "cell_type": "code",
   "execution_count": null,
   "metadata": {},
   "outputs": [],
   "source": [
    "def find_platforms_all():\n",
    "    platforms_current = {}\n",
    "    platforms_next = {}\n",
    "    platforms_current_ds = {}\n",
    "    platforms_next_ds = {}\n",
    "    for i in queried_platforms_this_next_ds.values: \n",
    "        if i is not None and i[0] is not None and i[1] is not None:\n",
    "            jobs_titles = i[2].split(\";\")  \n",
    "            \n",
    "            this_man_is_ds = False\n",
    "            # Check if job is data scientist\n",
    "            for job_indi in jobs_titles:\n",
    "                if job_indi in data_science_position_titles:\n",
    "                    this_man_is_ds = True\n",
    "                     \n",
    "            current_list = i[0].split(\";\") \n",
    "            next_list = i[1].split(\";\")\n",
    "            for platforms_current_indi in current_list:\n",
    "                try:\n",
    "                    platforms_current[platforms_current_indi] +=1\n",
    "                    if this_man_is_ds:\n",
    "                        platforms_current_ds[platforms_current_indi] +=1\n",
    "                except:\n",
    "                    platforms_current[platforms_current_indi] = 1\n",
    "                    if this_man_is_ds:\n",
    "                        platforms_current_ds[platforms_current_indi] = 1 \n",
    "            for platforms_next_indi in next_list:\n",
    "                try:\n",
    "                    platforms_next[platforms_next_indi] +=1\n",
    "                    if this_man_is_ds:\n",
    "                        platforms_next_ds[platforms_next_indi] +=1\n",
    "                except:\n",
    "                    platforms_next[platforms_next_indi] = 1\n",
    "                    if this_man_is_ds:\n",
    "                        platforms_next_ds[platforms_next_indi] = 1\n",
    "             \n",
    "                \n",
    "                \n",
    "    return platforms_current, platforms_next , platforms_current_ds, platforms_next_ds \n",
    "platforms_current , platforms_next, platforms_current_ds, platforms_next_ds  = find_platforms_all()"
   ]
  },
  {
   "cell_type": "code",
   "execution_count": null,
   "metadata": {},
   "outputs": [],
   "source": [
    "# Overall normal + DS\n",
    "dict_platforms_count = {\"Current\" : platforms_current , \"Next Year\" : platforms_next , \"CurrentDS\" : platforms_current_ds , \"Next Year DS\" : platforms_next_ds}\n",
    "dict_platforms_count_df = pd.DataFrame(dict_platforms_count)\n",
    "dict_platforms_count_df_plot = dict_platforms_count_df.plot( kind= 'bar' , secondary_y= 'amount' , rot= 0 )\n",
    "fig = plt.gcf()\n",
    "fig.set_size_inches(60, 10) \n",
    "plt.savefig(\"./Figure/platform_merge.png\")\n",
    "plt.show()"
   ]
  },
  {
   "cell_type": "code",
   "execution_count": null,
   "metadata": {},
   "outputs": [],
   "source": [
    "# Overall normal \n",
    "dict_platforms_count_normal = {\"Current\" : platforms_current , \"Next Year\" : platforms_next }\n",
    "dict_platforms_count_normal_df = pd.DataFrame(dict_platforms_count_normal)\n",
    "dict_platforms_count_df_normal_plot = dict_platforms_count_normal_df.plot( kind= 'bar' , secondary_y= 'amount' , rot= 0 )\n",
    "fig = plt.gcf()\n",
    "fig.set_size_inches(60, 10) \n",
    "plt.savefig(\"./Figure/platform_normal.png\")\n",
    "plt.show()"
   ]
  },
  {
   "cell_type": "code",
   "execution_count": null,
   "metadata": {},
   "outputs": [],
   "source": [
    "# Overall normal + DS\n",
    "dict_platforms_count_ds = {\"Current\" : platforms_current_ds , \"Next Year\" : platforms_next_ds }\n",
    "dict_platforms_count_ds_df = pd.DataFrame(dict_platforms_count_ds)\n",
    "dict_platforms_count_df_ds_plot = dict_platforms_count_ds_df.plot( kind= 'bar' , secondary_y= 'amount' , rot= 0 )\n",
    "fig = plt.gcf()\n",
    "fig.set_size_inches(60, 10) \n",
    "plt.savefig(\"./Figure/platform_ds.png\")\n",
    "plt.show()"
   ]
  },
  {
   "cell_type": "markdown",
   "metadata": {},
   "source": [
    "---\n",
    "## IDE\n"
   ]
  },
  {
   "cell_type": "code",
   "execution_count": null,
   "metadata": {},
   "outputs": [],
   "source": [
    "def query_ide():\n",
    "    query_sql = \"SELECT ide, devtype from \" + main_table + \" WHERE ide is not null AND devtype is not null AND country = 'United States' AND Student = 'No' AND employment = 'Employed full-time' AND convertedsalary is not null \"\n",
    "    c = conn.cursor()\n",
    "    c.execute(query_sql)\n",
    "    conn.commit()\n",
    "    rows  = c.fetchall() \n",
    "    \n",
    "    return rows  \n",
    "queried_ide = pd.DataFrame(query_ide() , columns = [\"IDE\" , \"DevType\"])"
   ]
  },
  {
   "cell_type": "code",
   "execution_count": null,
   "metadata": {},
   "outputs": [],
   "source": [
    "def find_ide_count():\n",
    "    ide = {}\n",
    "    ide_ds = {} \n",
    "    for i in queried_ide.values: \n",
    "        if i is not None and i[0] is not None and i[1] is not None:\n",
    "            jobs_titles = i[1].split(\";\")  \n",
    "            \n",
    "            this_man_is_ds = False\n",
    "            # Check if job is data scientist\n",
    "            for job_indi in jobs_titles:\n",
    "                if job_indi in data_science_position_titles:\n",
    "                    this_man_is_ds = True\n",
    "                     \n",
    "            current_list = i[0].split(\";\")  \n",
    "            for ide_indi in current_list:\n",
    "                try:\n",
    "                    ide[ide_indi] +=1\n",
    "                    if this_man_is_ds:\n",
    "                        ide_ds[ide_indi] +=1\n",
    "                except:\n",
    "                    ide[ide_indi] = 1\n",
    "                    if this_man_is_ds:\n",
    "                        ide_ds[ide_indi] = 1   \n",
    "    return  ide , ide_ds \n",
    "ide , ide_ds = find_ide_count()"
   ]
  },
  {
   "cell_type": "code",
   "execution_count": null,
   "metadata": {},
   "outputs": [],
   "source": [
    "# Overall normal \n",
    "dict_ids_count = {\"All\" : ide , \"DS Nerds :D\" : ide_ds }\n",
    "dict_ids_count_df = pd.DataFrame(dict_ids_count)\n",
    "dict_ids_count_df_plot = dict_ids_count_df.plot( kind= 'bar' , secondary_y= 'amount' , rot= 0 )\n",
    "fig = plt.gcf()\n",
    "fig.set_size_inches(50, 10) \n",
    "plt.savefig(\"./Figure/ide_choices.png\")\n",
    "plt.show()"
   ]
  },
  {
   "cell_type": "code",
   "execution_count": null,
   "metadata": {},
   "outputs": [],
   "source": [
    "# Overall normal \n",
    "dict_ids_count = { \"DS Nerds :D\" : ide_ds }\n",
    "dict_ids_count_df = pd.DataFrame(dict_ids_count)\n",
    "dict_ids_count_df_plot = dict_ids_count_df.plot( kind= 'bar' , secondary_y= 'amount' , rot= 0 )\n",
    "fig = plt.gcf()\n",
    "fig.set_size_inches(50, 10) \n",
    "plt.savefig(\"./Figure/ide_choices_ds.png\")\n",
    "plt.show()"
   ]
  },
  {
   "cell_type": "markdown",
   "metadata": {},
   "source": [
    "---\n",
    "## Operating System - Data Scientist\n",
    "## Operating System - Software Developer"
   ]
  },
  {
   "cell_type": "code",
   "execution_count": null,
   "metadata": {},
   "outputs": [],
   "source": [
    "def query_os():\n",
    "    query_sql = \"SELECT operatingsystem, devtype from \" + main_table + \" WHERE operatingsystem is not null AND devtype is not null AND country = 'United States' AND Student = 'No' AND employment = 'Employed full-time' AND convertedsalary is not null \"\n",
    "    c = conn.cursor()\n",
    "    c.execute(query_sql)\n",
    "    conn.commit()\n",
    "    rows  = c.fetchall() \n",
    "    \n",
    "    return rows  \n",
    "queried_os = pd.DataFrame(query_os() , columns = [\"IDE\" , \"DevType\"])"
   ]
  },
  {
   "cell_type": "code",
   "execution_count": null,
   "metadata": {},
   "outputs": [],
   "source": [
    "def find_os_count():\n",
    "    os = {}\n",
    "    os_ds = {} \n",
    "    for i in queried_os.values: \n",
    "        if i is not None and i[0] is not None and i[1] is not None:\n",
    "            jobs_titles = i[1].split(\";\")  \n",
    "            \n",
    "            this_man_is_ds = False\n",
    "            # Check if job is data scientist\n",
    "            for job_indi in jobs_titles:\n",
    "                if job_indi in data_science_position_titles:\n",
    "                    this_man_is_ds = True\n",
    "                     \n",
    "            current_list = i[0].split(\";\")  \n",
    "            for os_options in current_list:\n",
    "                try:\n",
    "                    os[os_options] +=1\n",
    "                    if this_man_is_ds:\n",
    "                        os_ds[os_options] +=1\n",
    "                except:\n",
    "                    os[os_options] = 1\n",
    "                    if this_man_is_ds:\n",
    "                        os_ds[os_options] = 1   \n",
    "    return os , os_ds \n",
    "os , os_ds =  find_os_count()"
   ]
  },
  {
   "cell_type": "code",
   "execution_count": null,
   "metadata": {},
   "outputs": [],
   "source": [
    "# Overall normal \n",
    "dict_os_count = {\"All\" : os , \"DS Nerds :D\" : os_ds }\n",
    "dict_os_count_df = pd.DataFrame(dict_os_count)\n",
    "dict_os_count_df_plt = dict_os_count_df.plot( kind= 'bar' , secondary_y= 'amount' , rot= 0 )\n",
    "fig = plt.gcf()\n",
    "fig.set_size_inches(15, 10) \n",
    "plt.savefig(\"./Figure/os.png\")\n",
    "plt.show()"
   ]
  },
  {
   "cell_type": "code",
   "execution_count": null,
   "metadata": {},
   "outputs": [],
   "source": [
    "os_ds"
   ]
  },
  {
   "cell_type": "markdown",
   "metadata": {},
   "source": [
    "---\n",
    "## SALARY\n",
    "- overall salary describe done\n",
    "- median/ mean done\n",
    "- countries\n",
    "- gender done\n",
    "- devtype\n",
    "- languages \n"
   ]
  },
  {
   "cell_type": "code",
   "execution_count": null,
   "metadata": {},
   "outputs": [],
   "source": [
    "def query_salary_respondents():\n",
    "    query_sql = \"SELECT convertedsalary from \" + main_table + \" WHERE country = 'United States' AND Student = 'No' AND employment = 'Employed full-time' AND convertedsalary is not null \"\n",
    "    c = conn.cursor()\n",
    "    c.execute(query_sql)\n",
    "    conn.commit()\n",
    "    rows  = c.fetchall() \n",
    "    none_count = 0\n",
    "    has_value_count = 0\n",
    "    for i in rows: \n",
    "        if i[0] is None:\n",
    "            none_count +=1\n",
    "        else:\n",
    "            has_value_count+=1 \n",
    "    return has_value_count / ( none_count + has_value_count)\n",
    "percentage_salary_respondents = query_salary_respondents()"
   ]
  },
  {
   "cell_type": "code",
   "execution_count": null,
   "metadata": {},
   "outputs": [],
   "source": [
    "print(\"Only %1.3f of respondents replied their salary\" % ( percentage_salary_respondents))"
   ]
  },
  {
   "cell_type": "code",
   "execution_count": null,
   "metadata": {},
   "outputs": [],
   "source": [
    "def query_female_salary():\n",
    "    \n",
    "    query_sql = \"SELECT convertedsalary, gender  from \" + main_table + \" WHERE gender like 'Female'\"\n",
    "    c = conn.cursor()\n",
    "    c.execute(query_sql)\n",
    "    conn.commit()\n",
    "    rows  = c.fetchall() \n",
    "    female_salary_list = []\n",
    "    for i in rows:\n",
    "        if i[0] is not None:\n",
    "#             print(float(i[0]))\n",
    "            female_salary_list.append(float(i[0]))\n",
    "    return female_salary_list\n",
    "female_salary = pd.DataFrame(query_female_salary() , columns = [\"Female Salary\"])\n",
    "print(female_salary.describe().round())\n",
    "    "
   ]
  },
  {
   "cell_type": "code",
   "execution_count": null,
   "metadata": {},
   "outputs": [],
   "source": [
    "def query_male_salary():\n",
    "    \n",
    "    query_sql = \"SELECT convertedsalary, gender  from \" + main_table + \" WHERE gender like 'Male'\"\n",
    "    c = conn.cursor()\n",
    "    c.execute(query_sql)\n",
    "    conn.commit()\n",
    "    rows  = c.fetchall() \n",
    "    male_salary_list = []\n",
    "    for i in rows:\n",
    "        if i[0] is not None:\n",
    "#             print(float(i[0]))\n",
    "            male_salary_list.append(float(i[0]))\n",
    "    return male_salary_list\n",
    "male_salary = pd.DataFrame(query_male_salary() , columns = [\"Male Salary\"])\n",
    "print(male_salary.describe().round())\n",
    "    "
   ]
  },
  {
   "cell_type": "code",
   "execution_count": null,
   "metadata": {},
   "outputs": [],
   "source": [
    "def query_all_salary():\n",
    "    \n",
    "    query_sql = \"SELECT convertedsalary, gender  from \" + main_table \n",
    "    c = conn.cursor()\n",
    "    c.execute(query_sql)\n",
    "    conn.commit()\n",
    "    rows  = c.fetchall() \n",
    "    all_salary_list = []\n",
    "    for i in rows:\n",
    "        if i[0] is not None:\n",
    "#             print(float(i[0]))\n",
    "            all_salary_list.append(float(i[0]))\n",
    "    return all_salary_list\n",
    "all_salary = pd.DataFrame(query_all_salary() , columns = [\"All Salary\"])\n",
    "print(all_salary.describe().round())\n",
    "    "
   ]
  },
  {
   "cell_type": "code",
   "execution_count": null,
   "metadata": {},
   "outputs": [],
   "source": [
    "def query_salary():\n",
    "    query_sql = \"SELECT convertedsalary, devtype, country  from \" + main_table + \" WHERE convertedsalary is not null AND country is not null and devtype is not null\"\n",
    "    c = conn.cursor()\n",
    "    c.execute(query_sql)\n",
    "    conn.commit()\n",
    "    rows  = c.fetchall()  \n",
    "    return rows  \n",
    "\n",
    "queried_salary = pd.DataFrame(query_salary() , columns = [\"Salary\", \"DevType\", \"Country\"])"
   ]
  },
  {
   "cell_type": "code",
   "execution_count": null,
   "metadata": {},
   "outputs": [],
   "source": [
    "def indi_salary_to_country_list():\n",
    "    country_salary_dict = {}\n",
    "    country_salary_dict_ds = {} \n",
    "    for i in queried_salary.values:\n",
    "    #     print(i)\n",
    "    #     new_i = i[0]\n",
    "    #     print(new_i)\n",
    "\n",
    "        #Check if DS\n",
    "        this_man_is_ds = False\n",
    "        jobs_split = i[1].split(\";\")\n",
    "        for q in jobs_split:\n",
    "            if q in data_science_position_titles:\n",
    "                this_man_is_ds = True\n",
    "\n",
    "        if i[0] is not None:\n",
    "            salary_int_value = round(float(i[0]))\n",
    "            try:\n",
    "                country_salary_dict[i[2]].append(salary_int_value)\n",
    "                if this_man_is_ds:\n",
    "                    country_salary_dict_ds[i[2]].append(salary_int_value) \n",
    "            except:\n",
    "                country_salary_dict[i[2]] = [] \n",
    "                country_salary_dict[i[2]].append(salary_int_value) \n",
    "                if this_man_is_ds:\n",
    "                    country_salary_dict_ds[i[2]] = []\n",
    "                    country_salary_dict_ds[i[2]].append(salary_int_value) \n",
    "    #     print(country_salary_dict)\n",
    "    #     print(country_salary_dict_ds) \n",
    "    return country_salary_dict , country_salary_dict_ds\n",
    "country_salary_dict , country_salary_dict_ds = indi_salary_to_country_list()"
   ]
  },
  {
   "cell_type": "code",
   "execution_count": null,
   "metadata": {},
   "outputs": [],
   "source": [
    "def find_median_country_salary():\n",
    "    new_country_salary_mean_dict = {}\n",
    "    for i in country_salary_dict.keys(): \n",
    "        each_country_list = country_salary_dict[i]\n",
    "    #     print(statistics.median(each_country_list))\n",
    "    #     print(statistics.mean(each_country_list))\n",
    "        try:\n",
    "            new_country_salary_mean_dict[i] = each_country_list\n",
    "        except:\n",
    "            new_country_salary_mean_dict[i] = []\n",
    "            new_country_salary_mean_dict[i] = each_country_list\n",
    "    # print(new_country_salary_mean_dict)\n",
    "    medium_salary_keys = {}\n",
    "    for i in new_country_salary_mean_dict.keys():\n",
    "        medium_per_country = statistics.median(new_country_salary_mean_dict[i])\n",
    "    #     print(medium_per_country)\n",
    "        try:\n",
    "            medium_salary_keys[i] = medium_per_country\n",
    "        except:\n",
    "            medium_salary_keys[i] = []\n",
    "            medium_salary_keys[i] = medium_per_country\n",
    "    top_values = {}\n",
    "    for i in medium_salary_keys.keys():\n",
    "        if medium_salary_keys[i] > 70000:\n",
    "            try:\n",
    "                top_values[i] = medium_salary_keys[i]\n",
    "            except:\n",
    "                top_values[i] = 0\n",
    "                top_values[i] = medium_salary_keys[i]\n",
    "    return top_values\n",
    "def find_median_country_salary_ds():\n",
    "    new_country_salary_mean_dict = {}\n",
    "    for i in country_salary_dict_ds.keys(): \n",
    "        each_country_list = country_salary_dict_ds[i]\n",
    "    #     print(statistics.median(each_country_list))\n",
    "    #     print(statistics.mean(each_country_list))\n",
    "        try:\n",
    "            new_country_salary_mean_dict[i] = each_country_list\n",
    "        except:\n",
    "            new_country_salary_mean_dict[i] = []\n",
    "            new_country_salary_mean_dict[i] = each_country_list\n",
    "    # print(new_country_salary_mean_dict)\n",
    "    medium_salary_keys = {}\n",
    "    for i in new_country_salary_mean_dict.keys():\n",
    "        medium_per_country = statistics.median(new_country_salary_mean_dict[i])\n",
    "    #     print(medium_per_country)\n",
    "        try:\n",
    "            medium_salary_keys[i] = medium_per_country\n",
    "        except:\n",
    "            medium_salary_keys[i] = []\n",
    "            medium_salary_keys[i] = medium_per_country\n",
    "    top_values = {}\n",
    "    for i in medium_salary_keys.keys():\n",
    "        if medium_salary_keys[i] > 70000:\n",
    "            try:\n",
    "                top_values[i] = medium_salary_keys[i]\n",
    "            except:\n",
    "                top_values[i] = 0\n",
    "                top_values[i] = medium_salary_keys[i]\n",
    "    return top_values \n",
    "\n",
    "top_values = find_median_country_salary()\n",
    "top_values_ds = find_median_country_salary_ds()"
   ]
  },
  {
   "cell_type": "code",
   "execution_count": null,
   "metadata": {},
   "outputs": [],
   "source": [
    "# Overall normal \n",
    "def show_all_country_salary():\n",
    "    median_salary_country = {\"All\" : top_values  }\n",
    "    median_salary_country_df = pd.DataFrame(median_salary_country)\n",
    "    median_salary_country_df_plt = median_salary_country_df.plot( kind= 'bar' , secondary_y= 'amount' , rot= 0 )\n",
    "    fig = plt.gcf()\n",
    "    fig.set_size_inches(20, 10) \n",
    "    plt.savefig(\"./Figure/salary country.png\")\n",
    "    plt.show()\n",
    "def  show_all_country_salary_ds():\n",
    "    median_salary_country = {\"DS\" : top_values_ds  }\n",
    "    median_salary_country_df = pd.DataFrame(median_salary_country)\n",
    "    median_salary_country_df_plt = median_salary_country_df.plot( kind= 'bar' , secondary_y= 'amount' , rot= 0 )\n",
    "    fig = plt.gcf()\n",
    "    fig.set_size_inches(20, 10) \n",
    "    plt.savefig(\"./Figure/salary country ds.png\")\n",
    "    plt.show()\n",
    "show_all_country_salary()\n",
    "show_all_country_salary_ds()"
   ]
  },
  {
   "cell_type": "code",
   "execution_count": null,
   "metadata": {},
   "outputs": [],
   "source": [
    "def query_salary_language():\n",
    "    query_sql = \"SELECT convertedsalary, devtype, languageworkedwith  from \" + main_table + \" WHERE convertedsalary is not null AND languageworkedwith is not null and devtype is not null\"\n",
    "    c = conn.cursor()\n",
    "    c.execute(query_sql)\n",
    "    conn.commit()\n",
    "    rows  = c.fetchall()  \n",
    "    return rows  \n",
    "\n",
    "queried_salary_language = pd.DataFrame(query_salary_language() , columns = [\"Salary\", \"DevType\", \"Language\"])"
   ]
  },
  {
   "cell_type": "code",
   "execution_count": null,
   "metadata": {},
   "outputs": [],
   "source": [
    "def indi_salary_to_language_list():\n",
    "    language_salary_dict = {}\n",
    "    language_salary_dict_ds = {} \n",
    "    for i in queried_salary_language.values: \n",
    "        this_man_is_ds = False\n",
    "        jobs_split = i[1].split(\";\")\n",
    "        for q in jobs_split:\n",
    "            if q in data_science_position_titles:\n",
    "                this_man_is_ds = True\n",
    "        language_split = i[2].split(\";\")\n",
    "        for indi_language in language_split:\n",
    "            \n",
    "            if i[0] is not None:\n",
    "                salary_int_value = round(float(i[0]))\n",
    "                try:\n",
    "                    language_salary_dict[indi_language].append(salary_int_value)\n",
    "                    if this_man_is_ds:\n",
    "                        language_salary_dict_ds[indi_language].append(salary_int_value) \n",
    "                except:\n",
    "                    language_salary_dict[indi_language] = [] \n",
    "                    language_salary_dict[indi_language].append(salary_int_value) \n",
    "                    if this_man_is_ds:\n",
    "                        language_salary_dict_ds[indi_language] = []\n",
    "                        language_salary_dict_ds[indi_language].append(salary_int_value)  \n",
    "#     print(language_salary_dict)\n",
    "    return language_salary_dict , language_salary_dict_ds\n",
    "language_salary_dict , language_salary_dict_ds = indi_salary_to_language_list()"
   ]
  },
  {
   "cell_type": "code",
   "execution_count": null,
   "metadata": {},
   "outputs": [],
   "source": [
    "def find_median_language_salary():\n",
    "    new_language_salary_mean_dict = {}\n",
    "    for i in language_salary_dict.keys(): \n",
    "        each_language_list = language_salary_dict[i]\n",
    "    #     print(statistics.median(each_country_list))\n",
    "    #     print(statistics.mean(each_country_list))\n",
    "        try:\n",
    "            new_language_salary_mean_dict[i] = each_language_list\n",
    "        except:\n",
    "            new_language_salary_mean_dict[i] = []\n",
    "            new_language_salary_mean_dict[i] = each_language_list\n",
    "    # print(new_country_salary_mean_dict)\n",
    "    medium_salary_keys = {}\n",
    "    for i in new_language_salary_mean_dict.keys():\n",
    "        medium_per_language = statistics.median(new_language_salary_mean_dict[i])\n",
    "    #     print(medium_per_country)\n",
    "        try:\n",
    "            medium_salary_keys[i] = medium_per_language\n",
    "        except:\n",
    "            medium_salary_keys[i] = []\n",
    "            medium_salary_keys[i] = medium_per_language\n",
    "    top_values = {}\n",
    "    for i in medium_salary_keys.keys():\n",
    "        if medium_salary_keys[i] > 50000:\n",
    "            try:\n",
    "                top_values[i] = medium_salary_keys[i]\n",
    "            except:\n",
    "                top_values[i] = 0\n",
    "                top_values[i] = medium_salary_keys[i]\n",
    "    return top_values\n",
    "def find_median_language_salary_ds():\n",
    "    new_language_salary_mean_dict = {}\n",
    "    for i in language_salary_dict_ds.keys(): \n",
    "        each_language_list = language_salary_dict_ds[i]\n",
    "    #     print(statistics.median(each_country_list))\n",
    "    #     print(statistics.mean(each_country_list))\n",
    "        try:\n",
    "            new_language_salary_mean_dict[i] = each_language_list\n",
    "        except:\n",
    "            new_language_salary_mean_dict[i] = []\n",
    "            new_language_salary_mean_dict[i] = each_language_list\n",
    "    # print(new_country_salary_mean_dict)\n",
    "    medium_salary_keys = {}\n",
    "    for i in new_language_salary_mean_dict.keys():\n",
    "        medium_per_country = statistics.median(new_language_salary_mean_dict[i])\n",
    "    #     print(medium_per_country)\n",
    "        try:\n",
    "            medium_salary_keys[i] = medium_per_country\n",
    "        except:\n",
    "            medium_salary_keys[i] = []\n",
    "            medium_salary_keys[i] = medium_per_country\n",
    "    top_values = {}\n",
    "    for i in medium_salary_keys.keys():\n",
    "        if medium_salary_keys[i] > 60000:\n",
    "            try:\n",
    "                top_values[i] = medium_salary_keys[i]\n",
    "            except:\n",
    "                top_values[i] = 0\n",
    "                top_values[i] = medium_salary_keys[i]\n",
    "    return top_values \n",
    "\n",
    "top_values_language = find_median_language_salary()\n",
    "top_values_language_ds = find_median_language_salary_ds()"
   ]
  },
  {
   "cell_type": "code",
   "execution_count": null,
   "metadata": {},
   "outputs": [],
   "source": [
    "top_values_language"
   ]
  },
  {
   "cell_type": "code",
   "execution_count": null,
   "metadata": {},
   "outputs": [],
   "source": [
    "top_values_language_ds"
   ]
  },
  {
   "cell_type": "code",
   "execution_count": null,
   "metadata": {},
   "outputs": [],
   "source": [
    "# Overall normal \n",
    "def show_all_language_salary():\n",
    "    median_salary_language = {\"All\" : top_values_language  }\n",
    "    median_salary_language_df = pd.DataFrame(median_salary_language)\n",
    "    median_salary_language_df_plt = median_salary_language_df.plot( kind= 'bar' , secondary_y= 'amount' , rot= 0 )\n",
    "    fig = plt.gcf()\n",
    "    fig.set_size_inches(20, 10) \n",
    "    plt.savefig(\"./Figure/salary language.png\")\n",
    "    plt.show()\n",
    "def  show_all_language_salary_ds():\n",
    "    median_salary_language = {\"DS\" : top_values_language_ds  }\n",
    "    median_salary_language_df = pd.DataFrame(median_salary_language)\n",
    "    median_salary_language_df_plt = median_salary_language_df.plot( kind= 'bar' , secondary_y= 'amount' , rot= 0 )\n",
    "    fig = plt.gcf()\n",
    "    fig.set_size_inches(20, 10) \n",
    "    plt.savefig(\"./Figure/salary language ds.png\")\n",
    "    plt.show()\n",
    "show_all_language_salary()\n",
    "show_all_language_salary_ds()"
   ]
  },
  {
   "cell_type": "code",
   "execution_count": null,
   "metadata": {},
   "outputs": [],
   "source": []
  },
  {
   "cell_type": "code",
   "execution_count": null,
   "metadata": {},
   "outputs": [],
   "source": [
    "execute_sql(\"SELECT * FROM stack_overflow_survey \\\n",
    "             WHERE country = 'United States' \\\n",
    "             AND Student = 'No' \\\n",
    "             AND employment = 'Employed full-time'\\\n",
    "             AND convertedsalary is not null\")\n",
    "\n"
   ]
  },
  {
   "cell_type": "code",
   "execution_count": null,
   "metadata": {},
   "outputs": [],
   "source": []
  },
  {
   "cell_type": "code",
   "execution_count": null,
   "metadata": {},
   "outputs": [],
   "source": []
  }
 ],
 "metadata": {
  "kernelspec": {
   "display_name": "Python 3",
   "language": "python",
   "name": "python3"
  },
  "language_info": {
   "codemirror_mode": {
    "name": "ipython",
    "version": 3
   },
   "file_extension": ".py",
   "mimetype": "text/x-python",
   "name": "python",
   "nbconvert_exporter": "python",
   "pygments_lexer": "ipython3",
   "version": "3.7.4"
  }
 },
 "nbformat": 4,
 "nbformat_minor": 4
}
